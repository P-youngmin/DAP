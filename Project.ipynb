{
  "nbformat": 4,
  "nbformat_minor": 0,
  "metadata": {
    "colab": {
      "name": "Untitled5.ipynb",
      "provenance": [],
      "authorship_tag": "ABX9TyN3IAx0uuNc9eGalLtouiXC",
      "include_colab_link": true
    },
    "kernelspec": {
      "name": "python3",
      "display_name": "Python 3"
    },
    "language_info": {
      "name": "python"
    }
  },
  "cells": [
    {
      "cell_type": "markdown",
      "metadata": {
        "id": "view-in-github",
        "colab_type": "text"
      },
      "source": [
        "<a href=\"https://colab.research.google.com/github/P-youngmin/DAP/blob/main/Project.ipynb\" target=\"_parent\"><img src=\"https://colab.research.google.com/assets/colab-badge.svg\" alt=\"Open In Colab\"/></a>"
      ]
    },
    {
      "cell_type": "code",
      "execution_count": null,
      "metadata": {
        "id": "wzngGrplmufb"
      },
      "outputs": [],
      "source": [
        "import numpy as np\n",
        "import pandas as pd\n",
        "import scipy\n",
        "import matplotlib\n",
        "import seaborn as sns\n",
        "import sklearn\n",
        "import datetime\n",
        "import json\n",
        "import matplotlib.pyplot as plt\n",
        "from datetime import timedelta"
      ]
    },
    {
      "cell_type": "code",
      "source": [
        "!pip install kaggle\n",
        "from google.colab import files\n",
        "files.upload()"
      ],
      "metadata": {
        "id": "lEwVqMjAmxrx"
      },
      "execution_count": null,
      "outputs": []
    },
    {
      "cell_type": "code",
      "source": [
        "ls -1ha kaggle.json"
      ],
      "metadata": {
        "id": "8WIPTUvEmyM0"
      },
      "execution_count": null,
      "outputs": []
    },
    {
      "cell_type": "code",
      "source": [
        "!mkdir -p ~/.kaggle\n",
        "!cp kaggle.json ~/.kaggle/ \n",
        "!chmod 600 ~/.kaggle/kaggle.json\n",
        "!kaggle competitions list"
      ],
      "metadata": {
        "id": "niJt7zrSm04w"
      },
      "execution_count": null,
      "outputs": []
    },
    {
      "cell_type": "code",
      "source": [
        "!kaggle datasets download -d rsrishav/youtube-trending-video-dataset"
      ],
      "metadata": {
        "id": "JpDWFNSPm5iM"
      },
      "execution_count": null,
      "outputs": []
    },
    {
      "cell_type": "code",
      "source": [
        "!unzip youtube-trending-video-dataset.zip"
      ],
      "metadata": {
        "id": "KlBOLJA9m7_9"
      },
      "execution_count": null,
      "outputs": []
    },
    {
      "cell_type": "markdown",
      "source": [
        "# **주제: 유튜브 인기 동영상 분석**\n",
        "\n",
        "Dataset \n",
        "*   YouTube Trending Video Dataset\n",
        "*   https://www.kaggle.com/rsrishav/youtube-trending-video-dataset?select=KR_youtube_trending_data.csv\n",
        "\n"
      ],
      "metadata": {
        "id": "YihTdOVRZ0Z7"
      }
    },
    {
      "cell_type": "code",
      "source": [
        "df = pd.read_csv('KR_youtube_trending_data.csv')\n",
        "df"
      ],
      "metadata": {
        "colab": {
          "base_uri": "https://localhost:8080/",
          "height": 1000
        },
        "id": "4FBQ9hmVnBnQ",
        "outputId": "c4b17d5d-af08-4c3a-d063-e4053c43861b"
      },
      "execution_count": null,
      "outputs": [
        {
          "output_type": "execute_result",
          "data": {
            "text/html": [
              "\n",
              "  <div id=\"df-ab97f221-9b15-419e-81d1-1fb9c99ac709\">\n",
              "    <div class=\"colab-df-container\">\n",
              "      <div>\n",
              "<style scoped>\n",
              "    .dataframe tbody tr th:only-of-type {\n",
              "        vertical-align: middle;\n",
              "    }\n",
              "\n",
              "    .dataframe tbody tr th {\n",
              "        vertical-align: top;\n",
              "    }\n",
              "\n",
              "    .dataframe thead th {\n",
              "        text-align: right;\n",
              "    }\n",
              "</style>\n",
              "<table border=\"1\" class=\"dataframe\">\n",
              "  <thead>\n",
              "    <tr style=\"text-align: right;\">\n",
              "      <th></th>\n",
              "      <th>video_id</th>\n",
              "      <th>title</th>\n",
              "      <th>publishedAt</th>\n",
              "      <th>channelId</th>\n",
              "      <th>channelTitle</th>\n",
              "      <th>categoryId</th>\n",
              "      <th>trending_date</th>\n",
              "      <th>tags</th>\n",
              "      <th>view_count</th>\n",
              "      <th>likes</th>\n",
              "      <th>dislikes</th>\n",
              "      <th>comment_count</th>\n",
              "      <th>thumbnail_link</th>\n",
              "      <th>comments_disabled</th>\n",
              "      <th>ratings_disabled</th>\n",
              "      <th>description</th>\n",
              "    </tr>\n",
              "  </thead>\n",
              "  <tbody>\n",
              "    <tr>\n",
              "      <th>0</th>\n",
              "      <td>uq5LClQN3cE</td>\n",
              "      <td>안녕하세요 보겸입니다</td>\n",
              "      <td>2020-08-09T09:32:48Z</td>\n",
              "      <td>UCu9BCtGIEr73LXZsKmoujKw</td>\n",
              "      <td>보겸 BK</td>\n",
              "      <td>24</td>\n",
              "      <td>2020-08-12T00:00:00Z</td>\n",
              "      <td>보겸|bokyem</td>\n",
              "      <td>5947503</td>\n",
              "      <td>53326</td>\n",
              "      <td>105756</td>\n",
              "      <td>139946</td>\n",
              "      <td>https://i.ytimg.com/vi/uq5LClQN3cE/default.jpg</td>\n",
              "      <td>False</td>\n",
              "      <td>False</td>\n",
              "      <td>NaN</td>\n",
              "    </tr>\n",
              "    <tr>\n",
              "      <th>1</th>\n",
              "      <td>I-ZbZCHsHD0</td>\n",
              "      <td>부락토스의 계획 [총몇명 프리퀄]</td>\n",
              "      <td>2020-08-12T09:00:08Z</td>\n",
              "      <td>UCRuSxVu4iqTK5kCh90ntAgA</td>\n",
              "      <td>총몇명</td>\n",
              "      <td>1</td>\n",
              "      <td>2020-08-12T00:00:00Z</td>\n",
              "      <td>총몇명|재밌는 만화|부락토스|루시퍼|총몇명 프리퀄|총몇명 스토리</td>\n",
              "      <td>963384</td>\n",
              "      <td>28244</td>\n",
              "      <td>494</td>\n",
              "      <td>3339</td>\n",
              "      <td>https://i.ytimg.com/vi/I-ZbZCHsHD0/default.jpg</td>\n",
              "      <td>False</td>\n",
              "      <td>False</td>\n",
              "      <td>오늘도 정말 감사드립니다!!총몇명 스튜디오 - 총몇명, 십제곱, 5G민, MOVE혁...</td>\n",
              "    </tr>\n",
              "    <tr>\n",
              "      <th>2</th>\n",
              "      <td>9d7jNUjBoss</td>\n",
              "      <td>평생 반성하면서 살겠습니다.</td>\n",
              "      <td>2020-08-10T09:54:13Z</td>\n",
              "      <td>UCMVC92EOs9yDJG5JS-CMesQ</td>\n",
              "      <td>양팡 YangPang</td>\n",
              "      <td>22</td>\n",
              "      <td>2020-08-12T00:00:00Z</td>\n",
              "      <td>양팡|양팡유튜브|팡튜브|가족시트콤|양팡가족|양팡가족시트콤|양팡언니|현실남매|현실자매...</td>\n",
              "      <td>2950885</td>\n",
              "      <td>17974</td>\n",
              "      <td>68898</td>\n",
              "      <td>50688</td>\n",
              "      <td>https://i.ytimg.com/vi/9d7jNUjBoss/default.jpg</td>\n",
              "      <td>False</td>\n",
              "      <td>False</td>\n",
              "      <td>NaN</td>\n",
              "    </tr>\n",
              "    <tr>\n",
              "      <th>3</th>\n",
              "      <td>3pI_L3-sMVg</td>\n",
              "      <td>안녕하세요 꽈뚜룹입니다.</td>\n",
              "      <td>2020-08-11T15:00:58Z</td>\n",
              "      <td>UCkQCwnkQfgSuPTTnw_Y7v7w</td>\n",
              "      <td>꽈뚜룹 Quaddurup</td>\n",
              "      <td>24</td>\n",
              "      <td>2020-08-12T00:00:00Z</td>\n",
              "      <td>꽈뚜룹|한국여행기|quaddurup|뚜룹이|korea|southkorea|vlog|...</td>\n",
              "      <td>1743374</td>\n",
              "      <td>36893</td>\n",
              "      <td>1798</td>\n",
              "      <td>8751</td>\n",
              "      <td>https://i.ytimg.com/vi/3pI_L3-sMVg/default.jpg</td>\n",
              "      <td>False</td>\n",
              "      <td>False</td>\n",
              "      <td>앞으로 좀 더 깔끔한 영상제작 약속 드리겠습니다.늘 감사드립니다</td>\n",
              "    </tr>\n",
              "    <tr>\n",
              "      <th>4</th>\n",
              "      <td>zrsBjYukE8s</td>\n",
              "      <td>박진영 (J.Y. Park) When We Disco (Duet with 선미) M/V</td>\n",
              "      <td>2020-08-11T09:00:13Z</td>\n",
              "      <td>UCaO6TYtlC8U5ttz62hTrZgg</td>\n",
              "      <td>JYP Entertainment</td>\n",
              "      <td>10</td>\n",
              "      <td>2020-08-12T00:00:00Z</td>\n",
              "      <td>JYP Entertainment|JYP|J.Y.Park|JYPark|박진영|선미|S...</td>\n",
              "      <td>3433885</td>\n",
              "      <td>353337</td>\n",
              "      <td>9763</td>\n",
              "      <td>23405</td>\n",
              "      <td>https://i.ytimg.com/vi/zrsBjYukE8s/default.jpg</td>\n",
              "      <td>False</td>\n",
              "      <td>False</td>\n",
              "      <td>MelOn http://kko.to/TWyXd7zYjSpotify https://s...</td>\n",
              "    </tr>\n",
              "    <tr>\n",
              "      <th>...</th>\n",
              "      <td>...</td>\n",
              "      <td>...</td>\n",
              "      <td>...</td>\n",
              "      <td>...</td>\n",
              "      <td>...</td>\n",
              "      <td>...</td>\n",
              "      <td>...</td>\n",
              "      <td>...</td>\n",
              "      <td>...</td>\n",
              "      <td>...</td>\n",
              "      <td>...</td>\n",
              "      <td>...</td>\n",
              "      <td>...</td>\n",
              "      <td>...</td>\n",
              "      <td>...</td>\n",
              "      <td>...</td>\n",
              "    </tr>\n",
              "    <tr>\n",
              "      <th>96949</th>\n",
              "      <td>9MhwHkKW5UU</td>\n",
              "      <td>Brawl Stars: Brawl Talk - 2 NEW BRAWLERS, BRAW...</td>\n",
              "      <td>2021-12-11T16:00:10Z</td>\n",
              "      <td>UCooVYzDxdwTtGYAkcPmOgOw</td>\n",
              "      <td>Brawl Stars</td>\n",
              "      <td>20</td>\n",
              "      <td>2021-12-20T00:00:00Z</td>\n",
              "      <td>brawl stars|mobile game|mobile strategy game|m...</td>\n",
              "      <td>13541547</td>\n",
              "      <td>616533</td>\n",
              "      <td>0</td>\n",
              "      <td>30285</td>\n",
              "      <td>https://i.ytimg.com/vi/9MhwHkKW5UU/default.jpg</td>\n",
              "      <td>False</td>\n",
              "      <td>False</td>\n",
              "      <td>Download NOW!! ►► https://supr.cl/playbrawlBe ...</td>\n",
              "    </tr>\n",
              "    <tr>\n",
              "      <th>96950</th>\n",
              "      <td>SElEK7mwca4</td>\n",
              "      <td>참 좋은 날</td>\n",
              "      <td>2021-12-09T09:10:32Z</td>\n",
              "      <td>UClch5s6f5W3YPW3CK7BDDTg</td>\n",
              "      <td>Lee Chanwon - Topic</td>\n",
              "      <td>10</td>\n",
              "      <td>2021-12-20T00:00:00Z</td>\n",
              "      <td>이찬원|참 좋은 날</td>\n",
              "      <td>1036167</td>\n",
              "      <td>22050</td>\n",
              "      <td>0</td>\n",
              "      <td>0</td>\n",
              "      <td>https://i.ytimg.com/vi/SElEK7mwca4/default.jpg</td>\n",
              "      <td>False</td>\n",
              "      <td>False</td>\n",
              "      <td>Provided to YouTube by UMAG참 좋은 날 · 이찬원참 좋은 날℗...</td>\n",
              "    </tr>\n",
              "    <tr>\n",
              "      <th>96951</th>\n",
              "      <td>Q3irgGha6Bc</td>\n",
              "      <td>[#유퀴즈온더블럭] 아빠 어디가 당시 윤민수와 안 친했다?! 어느새 훌쩍 커서 소년...</td>\n",
              "      <td>2021-12-11T13:26:01Z</td>\n",
              "      <td>UCsRIHt5FkbGc6cQtCxt-ufA</td>\n",
              "      <td>tvN D ENT</td>\n",
              "      <td>24</td>\n",
              "      <td>2021-12-20T00:00:00Z</td>\n",
              "      <td>AKMU|Diggle|tvN|tvN D ENT|갓구운 유퀴즈|갓구운클립|국가대표 이...</td>\n",
              "      <td>2175003</td>\n",
              "      <td>20311</td>\n",
              "      <td>0</td>\n",
              "      <td>2075</td>\n",
              "      <td>https://i.ytimg.com/vi/Q3irgGha6Bc/default.jpg</td>\n",
              "      <td>False</td>\n",
              "      <td>False</td>\n",
              "      <td>#유퀴즈온더블럭 #Diggle #디글 Let's giggle, :Diggle!구독하...</td>\n",
              "    </tr>\n",
              "    <tr>\n",
              "      <th>96952</th>\n",
              "      <td>x50ZfvS9QpQ</td>\n",
              "      <td>인도 6만원짜리 5성급 호텔 후기 - 해외3</td>\n",
              "      <td>2021-12-12T08:27:33Z</td>\n",
              "      <td>UCxU8QX7IRRIW0VLuoWWoxbw</td>\n",
              "      <td>여행가 제이 [Jay world traveler]</td>\n",
              "      <td>19</td>\n",
              "      <td>2021-12-20T00:00:00Z</td>\n",
              "      <td>브이로그|vlog|휴식|휴가|여행|인도|세계여행|대도시|첸나이|5성급|호텔|호캉스</td>\n",
              "      <td>277286</td>\n",
              "      <td>6060</td>\n",
              "      <td>0</td>\n",
              "      <td>792</td>\n",
              "      <td>https://i.ytimg.com/vi/x50ZfvS9QpQ/default.jpg</td>\n",
              "      <td>False</td>\n",
              "      <td>False</td>\n",
              "      <td>원래 계획은 북인도에서부터 시작해서 남인도로 내려와서남인도에 살고 있는 친구들을 보...</td>\n",
              "    </tr>\n",
              "    <tr>\n",
              "      <th>96953</th>\n",
              "      <td>UiOANLlcc48</td>\n",
              "      <td>‘시즌 6호골!’ 분위기를 바꾸는 황의조의 역전골! [트루아 vs 보르도]</td>\n",
              "      <td>2021-12-12T15:23:27Z</td>\n",
              "      <td>UCqsKWTIu7IhBjLFZS2s1ULQ</td>\n",
              "      <td>SBS Sports</td>\n",
              "      <td>17</td>\n",
              "      <td>2021-12-20T00:00:00Z</td>\n",
              "      <td>유럽축구|해외축구|프랑스축구|황의조|지롱댕드보르도|황의조골|골영상</td>\n",
              "      <td>896359</td>\n",
              "      <td>7035</td>\n",
              "      <td>0</td>\n",
              "      <td>787</td>\n",
              "      <td>https://i.ytimg.com/vi/UiOANLlcc48/default.jpg</td>\n",
              "      <td>False</td>\n",
              "      <td>False</td>\n",
              "      <td>#황의조 #황의조골 #리그1</td>\n",
              "    </tr>\n",
              "  </tbody>\n",
              "</table>\n",
              "<p>96954 rows × 16 columns</p>\n",
              "</div>\n",
              "      <button class=\"colab-df-convert\" onclick=\"convertToInteractive('df-ab97f221-9b15-419e-81d1-1fb9c99ac709')\"\n",
              "              title=\"Convert this dataframe to an interactive table.\"\n",
              "              style=\"display:none;\">\n",
              "        \n",
              "  <svg xmlns=\"http://www.w3.org/2000/svg\" height=\"24px\"viewBox=\"0 0 24 24\"\n",
              "       width=\"24px\">\n",
              "    <path d=\"M0 0h24v24H0V0z\" fill=\"none\"/>\n",
              "    <path d=\"M18.56 5.44l.94 2.06.94-2.06 2.06-.94-2.06-.94-.94-2.06-.94 2.06-2.06.94zm-11 1L8.5 8.5l.94-2.06 2.06-.94-2.06-.94L8.5 2.5l-.94 2.06-2.06.94zm10 10l.94 2.06.94-2.06 2.06-.94-2.06-.94-.94-2.06-.94 2.06-2.06.94z\"/><path d=\"M17.41 7.96l-1.37-1.37c-.4-.4-.92-.59-1.43-.59-.52 0-1.04.2-1.43.59L10.3 9.45l-7.72 7.72c-.78.78-.78 2.05 0 2.83L4 21.41c.39.39.9.59 1.41.59.51 0 1.02-.2 1.41-.59l7.78-7.78 2.81-2.81c.8-.78.8-2.07 0-2.86zM5.41 20L4 18.59l7.72-7.72 1.47 1.35L5.41 20z\"/>\n",
              "  </svg>\n",
              "      </button>\n",
              "      \n",
              "  <style>\n",
              "    .colab-df-container {\n",
              "      display:flex;\n",
              "      flex-wrap:wrap;\n",
              "      gap: 12px;\n",
              "    }\n",
              "\n",
              "    .colab-df-convert {\n",
              "      background-color: #E8F0FE;\n",
              "      border: none;\n",
              "      border-radius: 50%;\n",
              "      cursor: pointer;\n",
              "      display: none;\n",
              "      fill: #1967D2;\n",
              "      height: 32px;\n",
              "      padding: 0 0 0 0;\n",
              "      width: 32px;\n",
              "    }\n",
              "\n",
              "    .colab-df-convert:hover {\n",
              "      background-color: #E2EBFA;\n",
              "      box-shadow: 0px 1px 2px rgba(60, 64, 67, 0.3), 0px 1px 3px 1px rgba(60, 64, 67, 0.15);\n",
              "      fill: #174EA6;\n",
              "    }\n",
              "\n",
              "    [theme=dark] .colab-df-convert {\n",
              "      background-color: #3B4455;\n",
              "      fill: #D2E3FC;\n",
              "    }\n",
              "\n",
              "    [theme=dark] .colab-df-convert:hover {\n",
              "      background-color: #434B5C;\n",
              "      box-shadow: 0px 1px 3px 1px rgba(0, 0, 0, 0.15);\n",
              "      filter: drop-shadow(0px 1px 2px rgba(0, 0, 0, 0.3));\n",
              "      fill: #FFFFFF;\n",
              "    }\n",
              "  </style>\n",
              "\n",
              "      <script>\n",
              "        const buttonEl =\n",
              "          document.querySelector('#df-ab97f221-9b15-419e-81d1-1fb9c99ac709 button.colab-df-convert');\n",
              "        buttonEl.style.display =\n",
              "          google.colab.kernel.accessAllowed ? 'block' : 'none';\n",
              "\n",
              "        async function convertToInteractive(key) {\n",
              "          const element = document.querySelector('#df-ab97f221-9b15-419e-81d1-1fb9c99ac709');\n",
              "          const dataTable =\n",
              "            await google.colab.kernel.invokeFunction('convertToInteractive',\n",
              "                                                     [key], {});\n",
              "          if (!dataTable) return;\n",
              "\n",
              "          const docLinkHtml = 'Like what you see? Visit the ' +\n",
              "            '<a target=\"_blank\" href=https://colab.research.google.com/notebooks/data_table.ipynb>data table notebook</a>'\n",
              "            + ' to learn more about interactive tables.';\n",
              "          element.innerHTML = '';\n",
              "          dataTable['output_type'] = 'display_data';\n",
              "          await google.colab.output.renderOutput(dataTable, element);\n",
              "          const docLink = document.createElement('div');\n",
              "          docLink.innerHTML = docLinkHtml;\n",
              "          element.appendChild(docLink);\n",
              "        }\n",
              "      </script>\n",
              "    </div>\n",
              "  </div>\n",
              "  "
            ],
            "text/plain": [
              "          video_id  ...                                        description\n",
              "0      uq5LClQN3cE  ...                                                NaN\n",
              "1      I-ZbZCHsHD0  ...  오늘도 정말 감사드립니다!!총몇명 스튜디오 - 총몇명, 십제곱, 5G민, MOVE혁...\n",
              "2      9d7jNUjBoss  ...                                                NaN\n",
              "3      3pI_L3-sMVg  ...                앞으로 좀 더 깔끔한 영상제작 약속 드리겠습니다.늘 감사드립니다\n",
              "4      zrsBjYukE8s  ...  MelOn http://kko.to/TWyXd7zYjSpotify https://s...\n",
              "...            ...  ...                                                ...\n",
              "96949  9MhwHkKW5UU  ...  Download NOW!! ►► https://supr.cl/playbrawlBe ...\n",
              "96950  SElEK7mwca4  ...  Provided to YouTube by UMAG참 좋은 날 · 이찬원참 좋은 날℗...\n",
              "96951  Q3irgGha6Bc  ...  #유퀴즈온더블럭 #Diggle #디글 Let's giggle, :Diggle!구독하...\n",
              "96952  x50ZfvS9QpQ  ...  원래 계획은 북인도에서부터 시작해서 남인도로 내려와서남인도에 살고 있는 친구들을 보...\n",
              "96953  UiOANLlcc48  ...                                    #황의조 #황의조골 #리그1\n",
              "\n",
              "[96954 rows x 16 columns]"
            ]
          },
          "metadata": {},
          "execution_count": 301
        }
      ]
    },
    {
      "cell_type": "code",
      "source": [
        "df.info()"
      ],
      "metadata": {
        "colab": {
          "base_uri": "https://localhost:8080/"
        },
        "id": "yoa7Cs45nG-j",
        "outputId": "188ec0af-ce1b-456d-df1b-c34ec1f46f68"
      },
      "execution_count": null,
      "outputs": [
        {
          "output_type": "stream",
          "name": "stdout",
          "text": [
            "<class 'pandas.core.frame.DataFrame'>\n",
            "RangeIndex: 96954 entries, 0 to 96953\n",
            "Data columns (total 16 columns):\n",
            " #   Column             Non-Null Count  Dtype \n",
            "---  ------             --------------  ----- \n",
            " 0   video_id           96954 non-null  object\n",
            " 1   title              96954 non-null  object\n",
            " 2   publishedAt        96954 non-null  object\n",
            " 3   channelId          96954 non-null  object\n",
            " 4   channelTitle       96954 non-null  object\n",
            " 5   categoryId         96954 non-null  int64 \n",
            " 6   trending_date      96954 non-null  object\n",
            " 7   tags               96954 non-null  object\n",
            " 8   view_count         96954 non-null  int64 \n",
            " 9   likes              96954 non-null  int64 \n",
            " 10  dislikes           96954 non-null  int64 \n",
            " 11  comment_count      96954 non-null  int64 \n",
            " 12  thumbnail_link     96954 non-null  object\n",
            " 13  comments_disabled  96954 non-null  bool  \n",
            " 14  ratings_disabled   96954 non-null  bool  \n",
            " 15  description        94714 non-null  object\n",
            "dtypes: bool(2), int64(5), object(9)\n",
            "memory usage: 10.5+ MB\n"
          ]
        }
      ]
    },
    {
      "cell_type": "markdown",
      "source": [
        "### 시간의 데이터 타입들을 Datetime으로 변환"
      ],
      "metadata": {
        "id": "pK3OrsJen797"
      }
    },
    {
      "cell_type": "code",
      "source": [
        "df['trending_date'] = pd.to_datetime(df['trending_date'])\n",
        "df['publishedAt'] = pd.to_datetime(df['publishedAt'])"
      ],
      "metadata": {
        "id": "N_19Yl-sn-0K"
      },
      "execution_count": null,
      "outputs": []
    },
    {
      "cell_type": "markdown",
      "source": [
        "### 인기동영상으로 등록되는데 걸린 시간을 추가한다."
      ],
      "metadata": {
        "id": "DcI_W5vmoC7y"
      }
    },
    {
      "cell_type": "code",
      "source": [
        "df[\"tre_pubtime\"] = df[\"trending_date\"] - df[\"publishedAt\"] + timedelta(days = 1)"
      ],
      "metadata": {
        "id": "IBgBDIuQoIw0"
      },
      "execution_count": null,
      "outputs": []
    },
    {
      "cell_type": "markdown",
      "source": [
        "\n",
        "### 인기동영상에서 같은 영상이 다른 날짜에 중복해서 집계되는 경우를 확인한다."
      ],
      "metadata": {
        "id": "SipNuY1knrTI"
      }
    },
    {
      "cell_type": "code",
      "source": [
        "df[\"video_id\"].duplicated().value_counts()"
      ],
      "metadata": {
        "colab": {
          "base_uri": "https://localhost:8080/"
        },
        "id": "91-TNp0knf08",
        "outputId": "0990b04a-4062-45ad-cd9a-1c126cb2edf4"
      },
      "execution_count": null,
      "outputs": [
        {
          "output_type": "execute_result",
          "data": {
            "text/plain": [
              "True     84055\n",
              "False    12899\n",
              "Name: video_id, dtype: int64"
            ]
          },
          "metadata": {},
          "execution_count": 306
        }
      ]
    },
    {
      "cell_type": "markdown",
      "source": [
        "### 중복되는 영상들을 제거한다."
      ],
      "metadata": {
        "id": "csJpz-tenk1P"
      }
    },
    {
      "cell_type": "code",
      "source": [
        "df = df.drop_duplicates([\"video_id\"])[:]"
      ],
      "metadata": {
        "id": "Ws00ap71njYz"
      },
      "execution_count": null,
      "outputs": []
    },
    {
      "cell_type": "code",
      "source": [
        "df[\"video_id\"].duplicated().value_counts()"
      ],
      "metadata": {
        "colab": {
          "base_uri": "https://localhost:8080/"
        },
        "id": "vKu3KQKdn0cP",
        "outputId": "3411dd50-283a-46fb-f8b1-4697ed1a2261"
      },
      "execution_count": null,
      "outputs": [
        {
          "output_type": "execute_result",
          "data": {
            "text/plain": [
              "False    12899\n",
              "Name: video_id, dtype: int64"
            ]
          },
          "metadata": {},
          "execution_count": 308
        }
      ]
    },
    {
      "cell_type": "markdown",
      "source": [
        "### 값들의 관계를 추가"
      ],
      "metadata": {
        "id": "WrohGw8Rn3cg"
      }
    },
    {
      "cell_type": "code",
      "source": [
        "df[\"likes/view_count\"] = df[\"likes\"] / df[\"view_count\"]\n",
        "df[\"dislikes/view_count\"] = df[\"dislikes\"] / df[\"view_count\"]\n",
        "df[\"comment_count/view_count\"] = df[\"comment_count\"] / df[\"view_count\"]"
      ],
      "metadata": {
        "id": "VUBMc4EYn4Ju"
      },
      "execution_count": null,
      "outputs": []
    },
    {
      "cell_type": "code",
      "source": [
        "df.isnull().sum()"
      ],
      "metadata": {
        "colab": {
          "base_uri": "https://localhost:8080/"
        },
        "id": "01RdLtRi7egQ",
        "outputId": "8b3b2892-e6d5-42a4-a1d5-f8231764afea"
      },
      "execution_count": null,
      "outputs": [
        {
          "output_type": "execute_result",
          "data": {
            "text/plain": [
              "video_id                      0\n",
              "title                         0\n",
              "publishedAt                   0\n",
              "channelId                     0\n",
              "channelTitle                  0\n",
              "categoryId                    0\n",
              "trending_date                 0\n",
              "tags                          0\n",
              "view_count                    0\n",
              "likes                         0\n",
              "dislikes                      0\n",
              "comment_count                 0\n",
              "thumbnail_link                0\n",
              "comments_disabled             0\n",
              "ratings_disabled              0\n",
              "description                 337\n",
              "tre_pubtime                   0\n",
              "likes/view_count              1\n",
              "dislikes/view_count           1\n",
              "comment_count/view_count      1\n",
              "dtype: int64"
            ]
          },
          "metadata": {},
          "execution_count": 310
        }
      ]
    },
    {
      "cell_type": "markdown",
      "source": [
        "### dislikes/view_count 값과 comment_count/view_count 값에 null값이 들어가있는데 이유를 찾아보니 view_count 값이 0인 영상들이 있었다. 0인데 인기동영상에 올라와있는 이유를 찾아보니 유튜브 자체에서 캠패인 같은 식으로 제작한 영상은 조회수가 따로 집계되지 않아 그런것 같다. 특이한 케이스이고 null값을 없애주기 위해서 조회수가 0인 동영상 들은 제외해 주었다."
      ],
      "metadata": {
        "id": "aMB3Xw1K7_Qj"
      }
    },
    {
      "cell_type": "code",
      "source": [
        "df = df[df.view_count != 0]"
      ],
      "metadata": {
        "id": "hOrxg_t78vxz"
      },
      "execution_count": null,
      "outputs": []
    },
    {
      "cell_type": "markdown",
      "source": [
        "### 분석에 사용하지 않는 값들은 삭제한다."
      ],
      "metadata": {
        "id": "V-NSmDeazV19"
      }
    },
    {
      "cell_type": "code",
      "source": [
        "df= df.drop(['comments_disabled','ratings_disabled','description','thumbnail_link'],axis='columns')"
      ],
      "metadata": {
        "id": "Di2v5CTozZJU"
      },
      "execution_count": null,
      "outputs": []
    },
    {
      "cell_type": "code",
      "source": [
        "id_to_category = {}\n",
        "\n",
        "with open(\"./KR_category_id.json\",\"r\") as f:\n",
        "    id_data = json.load(f)\n",
        "    for category in id_data[\"items\"]:\n",
        "        id_to_category[category[\"id\"]] = category[\"snippet\"][\"title\"]\n",
        "\n",
        "df[\"categoryId\"] = df[\"categoryId\"].astype(str)\n",
        "df.insert(4, \"category\", df[\"categoryId\"].map(id_to_category))"
      ],
      "metadata": {
        "id": "Bz7Nhy_uD109"
      },
      "execution_count": null,
      "outputs": []
    },
    {
      "cell_type": "code",
      "source": [
        "df.head()"
      ],
      "metadata": {
        "colab": {
          "base_uri": "https://localhost:8080/",
          "height": 791
        },
        "id": "ysqWPB6koKoy",
        "outputId": "9d212266-fbe4-4efe-e510-4b5bd5dce67d"
      },
      "execution_count": null,
      "outputs": [
        {
          "output_type": "execute_result",
          "data": {
            "text/html": [
              "\n",
              "  <div id=\"df-c3c1e526-4043-4d77-9b31-4d155da4e3b0\">\n",
              "    <div class=\"colab-df-container\">\n",
              "      <div>\n",
              "<style scoped>\n",
              "    .dataframe tbody tr th:only-of-type {\n",
              "        vertical-align: middle;\n",
              "    }\n",
              "\n",
              "    .dataframe tbody tr th {\n",
              "        vertical-align: top;\n",
              "    }\n",
              "\n",
              "    .dataframe thead th {\n",
              "        text-align: right;\n",
              "    }\n",
              "</style>\n",
              "<table border=\"1\" class=\"dataframe\">\n",
              "  <thead>\n",
              "    <tr style=\"text-align: right;\">\n",
              "      <th></th>\n",
              "      <th>video_id</th>\n",
              "      <th>title</th>\n",
              "      <th>publishedAt</th>\n",
              "      <th>channelId</th>\n",
              "      <th>category</th>\n",
              "      <th>channelTitle</th>\n",
              "      <th>categoryId</th>\n",
              "      <th>trending_date</th>\n",
              "      <th>tags</th>\n",
              "      <th>view_count</th>\n",
              "      <th>likes</th>\n",
              "      <th>dislikes</th>\n",
              "      <th>comment_count</th>\n",
              "      <th>tre_pubtime</th>\n",
              "      <th>likes/view_count</th>\n",
              "      <th>dislikes/view_count</th>\n",
              "      <th>comment_count/view_count</th>\n",
              "    </tr>\n",
              "  </thead>\n",
              "  <tbody>\n",
              "    <tr>\n",
              "      <th>0</th>\n",
              "      <td>uq5LClQN3cE</td>\n",
              "      <td>안녕하세요 보겸입니다</td>\n",
              "      <td>2020-08-09 09:32:48+00:00</td>\n",
              "      <td>UCu9BCtGIEr73LXZsKmoujKw</td>\n",
              "      <td>Entertainment</td>\n",
              "      <td>보겸 BK</td>\n",
              "      <td>24</td>\n",
              "      <td>2020-08-12 00:00:00+00:00</td>\n",
              "      <td>보겸|bokyem</td>\n",
              "      <td>5947503</td>\n",
              "      <td>53326</td>\n",
              "      <td>105756</td>\n",
              "      <td>139946</td>\n",
              "      <td>3 days 14:27:12</td>\n",
              "      <td>0.008966</td>\n",
              "      <td>0.017782</td>\n",
              "      <td>0.023530</td>\n",
              "    </tr>\n",
              "    <tr>\n",
              "      <th>1</th>\n",
              "      <td>I-ZbZCHsHD0</td>\n",
              "      <td>부락토스의 계획 [총몇명 프리퀄]</td>\n",
              "      <td>2020-08-12 09:00:08+00:00</td>\n",
              "      <td>UCRuSxVu4iqTK5kCh90ntAgA</td>\n",
              "      <td>Film &amp; Animation</td>\n",
              "      <td>총몇명</td>\n",
              "      <td>1</td>\n",
              "      <td>2020-08-12 00:00:00+00:00</td>\n",
              "      <td>총몇명|재밌는 만화|부락토스|루시퍼|총몇명 프리퀄|총몇명 스토리</td>\n",
              "      <td>963384</td>\n",
              "      <td>28244</td>\n",
              "      <td>494</td>\n",
              "      <td>3339</td>\n",
              "      <td>0 days 14:59:52</td>\n",
              "      <td>0.029317</td>\n",
              "      <td>0.000513</td>\n",
              "      <td>0.003466</td>\n",
              "    </tr>\n",
              "    <tr>\n",
              "      <th>2</th>\n",
              "      <td>9d7jNUjBoss</td>\n",
              "      <td>평생 반성하면서 살겠습니다.</td>\n",
              "      <td>2020-08-10 09:54:13+00:00</td>\n",
              "      <td>UCMVC92EOs9yDJG5JS-CMesQ</td>\n",
              "      <td>People &amp; Blogs</td>\n",
              "      <td>양팡 YangPang</td>\n",
              "      <td>22</td>\n",
              "      <td>2020-08-12 00:00:00+00:00</td>\n",
              "      <td>양팡|양팡유튜브|팡튜브|가족시트콤|양팡가족|양팡가족시트콤|양팡언니|현실남매|현실자매...</td>\n",
              "      <td>2950885</td>\n",
              "      <td>17974</td>\n",
              "      <td>68898</td>\n",
              "      <td>50688</td>\n",
              "      <td>2 days 14:05:47</td>\n",
              "      <td>0.006091</td>\n",
              "      <td>0.023348</td>\n",
              "      <td>0.017177</td>\n",
              "    </tr>\n",
              "    <tr>\n",
              "      <th>3</th>\n",
              "      <td>3pI_L3-sMVg</td>\n",
              "      <td>안녕하세요 꽈뚜룹입니다.</td>\n",
              "      <td>2020-08-11 15:00:58+00:00</td>\n",
              "      <td>UCkQCwnkQfgSuPTTnw_Y7v7w</td>\n",
              "      <td>Entertainment</td>\n",
              "      <td>꽈뚜룹 Quaddurup</td>\n",
              "      <td>24</td>\n",
              "      <td>2020-08-12 00:00:00+00:00</td>\n",
              "      <td>꽈뚜룹|한국여행기|quaddurup|뚜룹이|korea|southkorea|vlog|...</td>\n",
              "      <td>1743374</td>\n",
              "      <td>36893</td>\n",
              "      <td>1798</td>\n",
              "      <td>8751</td>\n",
              "      <td>1 days 08:59:02</td>\n",
              "      <td>0.021162</td>\n",
              "      <td>0.001031</td>\n",
              "      <td>0.005020</td>\n",
              "    </tr>\n",
              "    <tr>\n",
              "      <th>4</th>\n",
              "      <td>zrsBjYukE8s</td>\n",
              "      <td>박진영 (J.Y. Park) When We Disco (Duet with 선미) M/V</td>\n",
              "      <td>2020-08-11 09:00:13+00:00</td>\n",
              "      <td>UCaO6TYtlC8U5ttz62hTrZgg</td>\n",
              "      <td>Music</td>\n",
              "      <td>JYP Entertainment</td>\n",
              "      <td>10</td>\n",
              "      <td>2020-08-12 00:00:00+00:00</td>\n",
              "      <td>JYP Entertainment|JYP|J.Y.Park|JYPark|박진영|선미|S...</td>\n",
              "      <td>3433885</td>\n",
              "      <td>353337</td>\n",
              "      <td>9763</td>\n",
              "      <td>23405</td>\n",
              "      <td>1 days 14:59:47</td>\n",
              "      <td>0.102897</td>\n",
              "      <td>0.002843</td>\n",
              "      <td>0.006816</td>\n",
              "    </tr>\n",
              "  </tbody>\n",
              "</table>\n",
              "</div>\n",
              "      <button class=\"colab-df-convert\" onclick=\"convertToInteractive('df-c3c1e526-4043-4d77-9b31-4d155da4e3b0')\"\n",
              "              title=\"Convert this dataframe to an interactive table.\"\n",
              "              style=\"display:none;\">\n",
              "        \n",
              "  <svg xmlns=\"http://www.w3.org/2000/svg\" height=\"24px\"viewBox=\"0 0 24 24\"\n",
              "       width=\"24px\">\n",
              "    <path d=\"M0 0h24v24H0V0z\" fill=\"none\"/>\n",
              "    <path d=\"M18.56 5.44l.94 2.06.94-2.06 2.06-.94-2.06-.94-.94-2.06-.94 2.06-2.06.94zm-11 1L8.5 8.5l.94-2.06 2.06-.94-2.06-.94L8.5 2.5l-.94 2.06-2.06.94zm10 10l.94 2.06.94-2.06 2.06-.94-2.06-.94-.94-2.06-.94 2.06-2.06.94z\"/><path d=\"M17.41 7.96l-1.37-1.37c-.4-.4-.92-.59-1.43-.59-.52 0-1.04.2-1.43.59L10.3 9.45l-7.72 7.72c-.78.78-.78 2.05 0 2.83L4 21.41c.39.39.9.59 1.41.59.51 0 1.02-.2 1.41-.59l7.78-7.78 2.81-2.81c.8-.78.8-2.07 0-2.86zM5.41 20L4 18.59l7.72-7.72 1.47 1.35L5.41 20z\"/>\n",
              "  </svg>\n",
              "      </button>\n",
              "      \n",
              "  <style>\n",
              "    .colab-df-container {\n",
              "      display:flex;\n",
              "      flex-wrap:wrap;\n",
              "      gap: 12px;\n",
              "    }\n",
              "\n",
              "    .colab-df-convert {\n",
              "      background-color: #E8F0FE;\n",
              "      border: none;\n",
              "      border-radius: 50%;\n",
              "      cursor: pointer;\n",
              "      display: none;\n",
              "      fill: #1967D2;\n",
              "      height: 32px;\n",
              "      padding: 0 0 0 0;\n",
              "      width: 32px;\n",
              "    }\n",
              "\n",
              "    .colab-df-convert:hover {\n",
              "      background-color: #E2EBFA;\n",
              "      box-shadow: 0px 1px 2px rgba(60, 64, 67, 0.3), 0px 1px 3px 1px rgba(60, 64, 67, 0.15);\n",
              "      fill: #174EA6;\n",
              "    }\n",
              "\n",
              "    [theme=dark] .colab-df-convert {\n",
              "      background-color: #3B4455;\n",
              "      fill: #D2E3FC;\n",
              "    }\n",
              "\n",
              "    [theme=dark] .colab-df-convert:hover {\n",
              "      background-color: #434B5C;\n",
              "      box-shadow: 0px 1px 3px 1px rgba(0, 0, 0, 0.15);\n",
              "      filter: drop-shadow(0px 1px 2px rgba(0, 0, 0, 0.3));\n",
              "      fill: #FFFFFF;\n",
              "    }\n",
              "  </style>\n",
              "\n",
              "      <script>\n",
              "        const buttonEl =\n",
              "          document.querySelector('#df-c3c1e526-4043-4d77-9b31-4d155da4e3b0 button.colab-df-convert');\n",
              "        buttonEl.style.display =\n",
              "          google.colab.kernel.accessAllowed ? 'block' : 'none';\n",
              "\n",
              "        async function convertToInteractive(key) {\n",
              "          const element = document.querySelector('#df-c3c1e526-4043-4d77-9b31-4d155da4e3b0');\n",
              "          const dataTable =\n",
              "            await google.colab.kernel.invokeFunction('convertToInteractive',\n",
              "                                                     [key], {});\n",
              "          if (!dataTable) return;\n",
              "\n",
              "          const docLinkHtml = 'Like what you see? Visit the ' +\n",
              "            '<a target=\"_blank\" href=https://colab.research.google.com/notebooks/data_table.ipynb>data table notebook</a>'\n",
              "            + ' to learn more about interactive tables.';\n",
              "          element.innerHTML = '';\n",
              "          dataTable['output_type'] = 'display_data';\n",
              "          await google.colab.output.renderOutput(dataTable, element);\n",
              "          const docLink = document.createElement('div');\n",
              "          docLink.innerHTML = docLinkHtml;\n",
              "          element.appendChild(docLink);\n",
              "        }\n",
              "      </script>\n",
              "    </div>\n",
              "  </div>\n",
              "  "
            ],
            "text/plain": [
              "      video_id  ... comment_count/view_count\n",
              "0  uq5LClQN3cE  ...                 0.023530\n",
              "1  I-ZbZCHsHD0  ...                 0.003466\n",
              "2  9d7jNUjBoss  ...                 0.017177\n",
              "3  3pI_L3-sMVg  ...                 0.005020\n",
              "4  zrsBjYukE8s  ...                 0.006816\n",
              "\n",
              "[5 rows x 17 columns]"
            ]
          },
          "metadata": {},
          "execution_count": 314
        }
      ]
    },
    {
      "cell_type": "markdown",
      "source": [
        "# **조회수**\n",
        "\n",
        "### 인기동영상의 조회수의 최대, 최소, 평균 값을 구한다."
      ],
      "metadata": {
        "id": "FDbBuptYoMS7"
      }
    },
    {
      "cell_type": "code",
      "source": [
        "print(\"조회수 평균 :{:.2f}\".format(df['view_count'].mean()))\n",
        "print(\"조회수 최대값 :{:.2f}\".format(df['view_count'].max()))\n",
        "print(\"조회수 최소값 :{:.2f}\".format(df['view_count'].min()))\n",
        "\n",
        "plt.hist(df['view_count'])"
      ],
      "metadata": {
        "colab": {
          "base_uri": "https://localhost:8080/",
          "height": 443
        },
        "id": "jBfkc5yNoZob",
        "outputId": "e25d438a-01da-43ac-be9d-b6bd9c11ea1b"
      },
      "execution_count": null,
      "outputs": [
        {
          "output_type": "stream",
          "name": "stdout",
          "text": [
            "조회수 평균 :779062.35\n",
            "조회수 최대값 :76805026.00\n",
            "조회수 최소값 :14209.00\n"
          ]
        },
        {
          "output_type": "execute_result",
          "data": {
            "text/plain": [
              "(array([1.2747e+04, 9.6000e+01, 2.4000e+01, 1.1000e+01, 1.0000e+01,\n",
              "        4.0000e+00, 1.0000e+00, 1.0000e+00, 2.0000e+00, 1.0000e+00]),\n",
              " array([1.42090000e+04, 7.69329070e+06, 1.53723724e+07, 2.30514541e+07,\n",
              "        3.07305358e+07, 3.84096175e+07, 4.60886992e+07, 5.37677809e+07,\n",
              "        6.14468626e+07, 6.91259443e+07, 7.68050260e+07]),\n",
              " <a list of 10 Patch objects>)"
            ]
          },
          "metadata": {},
          "execution_count": 315
        },
        {
          "output_type": "display_data",
          "data": {
            "image/png": "[encoded data removed]",
            "text/plain": [
              "<Figure size 432x288 with 1 Axes>"
            ]
          },
          "metadata": {
            "needs_background": "light"
          }
        }
      ]
    },
    {
      "cell_type": "markdown",
      "source": [
        "### 최대값과 평균의 차이가 매우 크고 표가 한 곳으로 몰린 것을 보아 outlier가 존재한다는 것을 알 수 있다.\n",
        "\n",
        "### 조회수가 0인 경우와 아웃라이어를 제거하고 다시 구해보았다."
      ],
      "metadata": {
        "id": "0qjqaCOgokRC"
      }
    },
    {
      "cell_type": "code",
      "source": [
        "Q1 = df['view_count'].quantile(.20)\n",
        "Q3 = df['view_count'].quantile(.80)\n",
        "IQR = Q3 - Q1\n",
        "outlier_step = 1.5 * IQR\n",
        "\n",
        "filtered_view_df = df[(df['view_count'] < Q3 + outlier_step)]\n",
        "filtered_view_df[[\"view_count\"]].describe()\n",
        "\n",
        "print(\"조회수 평균 :{:.2f}\".format(filtered_view_df['view_count'].mean()))\n",
        "print(\"조회수 최대값 :{:.2f}\".format(filtered_view_df['view_count'].max()))\n",
        "print(\"조회수 최소값 :{:.2f}\".format(filtered_view_df['view_count'].min()))"
      ],
      "metadata": {
        "colab": {
          "base_uri": "https://localhost:8080/"
        },
        "id": "YkBkCdkeomCw",
        "outputId": "820676f6-0174-4284-e26a-d5e3ae95c457"
      },
      "execution_count": null,
      "outputs": [
        {
          "output_type": "stream",
          "name": "stdout",
          "text": [
            "조회수 평균 :439868.71\n",
            "조회수 최대값 :1878173.00\n",
            "조회수 최소값 :14209.00\n"
          ]
        }
      ]
    },
    {
      "cell_type": "code",
      "source": [
        "plt.hist(filtered_view_df['view_count'])"
      ],
      "metadata": {
        "colab": {
          "base_uri": "https://localhost:8080/",
          "height": 370
        },
        "id": "IeWAmeFOuIi8",
        "outputId": "601509cc-b001-494a-bce5-7be2fdd89caa"
      },
      "execution_count": null,
      "outputs": [
        {
          "output_type": "execute_result",
          "data": {
            "text/plain": [
              "(array([3985., 3209., 1693., 1093.,  729.,  523.,  363.,  226.,  171.,\n",
              "         126.]),\n",
              " array([  14209. ,  200605.4,  387001.8,  573398.2,  759794.6,  946191. ,\n",
              "        1132587.4, 1318983.8, 1505380.2, 1691776.6, 1878173. ]),\n",
              " <a list of 10 Patch objects>)"
            ]
          },
          "metadata": {},
          "execution_count": 317
        },
        {
          "output_type": "display_data",
          "data": {
            "image/png": "[encoded data removed]",
            "text/plain": [
              "<Figure size 432x288 with 1 Axes>"
            ]
          },
          "metadata": {
            "needs_background": "light"
          }
        }
      ]
    },
    {
      "cell_type": "markdown",
      "source": [
        "### 위의 결과로 생각해 봤을때 인기동영상은 최소 14000의 조회수를 갖고\n",
        "### 평균적으로 440000의 조회수를 같는 것을 알 수있다.\n",
        "\n",
        "\n",
        "### 조회수와 같이 좋아요와 싫어요도 분석해 보았다."
      ],
      "metadata": {
        "id": "Iz-s1FjSuRVT"
      }
    },
    {
      "cell_type": "code",
      "source": [
        "like_df = df[df.likes != 0]\n",
        "Q1 = like_df['likes'].quantile(.20)\n",
        "Q3 = like_df['likes'].quantile(.80)\n",
        "IQR = Q3 - Q1\n",
        "outlier_step = 1.5 * IQR\n",
        "filtered_like_df = like_df[(like_df['likes'] < Q3 + outlier_step)]\n",
        "\n",
        "dislike_df = df[df.dislikes != 0]\n",
        "Q1 = dislike_df['dislikes'].quantile(.20)\n",
        "Q3 = dislike_df['dislikes'].quantile(.80)\n",
        "IQR = Q3 - Q1\n",
        "outlier_step = 1.5 * IQR\n",
        "filtered_dislike_df = dislike_df[(dislike_df['dislikes'] < Q3 + outlier_step)]\n",
        "\n",
        "\n",
        "\n",
        "print(\"좋아요 평균 :{:.2f}\".format(filtered_like_df['likes'].mean()))\n",
        "print(\"좋아요 최대값 :{:.2f}\".format(filtered_like_df['likes'].max()))\n",
        "print(\"좋아요 최소값 :{:.2f}\".format(filtered_like_df['likes'].min()))\n",
        "print(\"\")\n",
        "print(\"싫어요 평균 :{:.2f}\".format(filtered_dislike_df['dislikes'].mean()))\n",
        "print(\"싫어요 최대값 :{:.2f}\".format(filtered_dislike_df['dislikes'].max()))\n",
        "print(\"싫어요 최소값 :{:.2f}\".format(filtered_dislike_df['dislikes'].min()))"
      ],
      "metadata": {
        "colab": {
          "base_uri": "https://localhost:8080/"
        },
        "id": "NYBLqLuNJwlT",
        "outputId": "1c89155c-ad41-4086-bbe1-2848919c105a"
      },
      "execution_count": null,
      "outputs": [
        {
          "output_type": "stream",
          "name": "stdout",
          "text": [
            "좋아요 평균 :9713.21\n",
            "좋아요 최대값 :50656.00\n",
            "좋아요 최소값 :70.00\n",
            "\n",
            "싫어요 평균 :178.21\n",
            "싫어요 최대값 :839.00\n",
            "싫어요 최소값 :2.00\n"
          ]
        }
      ]
    },
    {
      "cell_type": "markdown",
      "source": [
        "# **좋아요, 싫어요, 댓글수의 관계**\n",
        "\n",
        "\n",
        "\n"
      ],
      "metadata": {
        "id": "KYTWHdMUyyaO"
      }
    },
    {
      "cell_type": "code",
      "source": [
        "df[[\"likes/view_count\", \"dislikes/view_count\", \"comment_count/view_count\"]].describe()"
      ],
      "metadata": {
        "colab": {
          "base_uri": "https://localhost:8080/",
          "height": 300
        },
        "id": "CqYY26T3498y",
        "outputId": "2bbd2b32-8a90-4f37-8449-bed124b23b1c"
      },
      "execution_count": null,
      "outputs": [
        {
          "output_type": "execute_result",
          "data": {
            "text/html": [
              "\n",
              "  <div id=\"df-c6f215e3-8c2f-4f52-b1d2-12d886d73c8d\">\n",
              "    <div class=\"colab-df-container\">\n",
              "      <div>\n",
              "<style scoped>\n",
              "    .dataframe tbody tr th:only-of-type {\n",
              "        vertical-align: middle;\n",
              "    }\n",
              "\n",
              "    .dataframe tbody tr th {\n",
              "        vertical-align: top;\n",
              "    }\n",
              "\n",
              "    .dataframe thead th {\n",
              "        text-align: right;\n",
              "    }\n",
              "</style>\n",
              "<table border=\"1\" class=\"dataframe\">\n",
              "  <thead>\n",
              "    <tr style=\"text-align: right;\">\n",
              "      <th></th>\n",
              "      <th>likes/view_count</th>\n",
              "      <th>dislikes/view_count</th>\n",
              "      <th>comment_count/view_count</th>\n",
              "    </tr>\n",
              "  </thead>\n",
              "  <tbody>\n",
              "    <tr>\n",
              "      <th>count</th>\n",
              "      <td>12897.000000</td>\n",
              "      <td>12897.000000</td>\n",
              "      <td>12897.000000</td>\n",
              "    </tr>\n",
              "    <tr>\n",
              "      <th>mean</th>\n",
              "      <td>0.039904</td>\n",
              "      <td>0.000692</td>\n",
              "      <td>0.004564</td>\n",
              "    </tr>\n",
              "    <tr>\n",
              "      <th>std</th>\n",
              "      <td>0.048577</td>\n",
              "      <td>0.001810</td>\n",
              "      <td>0.005479</td>\n",
              "    </tr>\n",
              "    <tr>\n",
              "      <th>min</th>\n",
              "      <td>0.000000</td>\n",
              "      <td>0.000000</td>\n",
              "      <td>0.000000</td>\n",
              "    </tr>\n",
              "    <tr>\n",
              "      <th>25%</th>\n",
              "      <td>0.013618</td>\n",
              "      <td>0.000256</td>\n",
              "      <td>0.001567</td>\n",
              "    </tr>\n",
              "    <tr>\n",
              "      <th>50%</th>\n",
              "      <td>0.022548</td>\n",
              "      <td>0.000402</td>\n",
              "      <td>0.003011</td>\n",
              "    </tr>\n",
              "    <tr>\n",
              "      <th>75%</th>\n",
              "      <td>0.040780</td>\n",
              "      <td>0.000667</td>\n",
              "      <td>0.005512</td>\n",
              "    </tr>\n",
              "    <tr>\n",
              "      <th>max</th>\n",
              "      <td>0.408681</td>\n",
              "      <td>0.077554</td>\n",
              "      <td>0.161516</td>\n",
              "    </tr>\n",
              "  </tbody>\n",
              "</table>\n",
              "</div>\n",
              "      <button class=\"colab-df-convert\" onclick=\"convertToInteractive('df-c6f215e3-8c2f-4f52-b1d2-12d886d73c8d')\"\n",
              "              title=\"Convert this dataframe to an interactive table.\"\n",
              "              style=\"display:none;\">\n",
              "        \n",
              "  <svg xmlns=\"http://www.w3.org/2000/svg\" height=\"24px\"viewBox=\"0 0 24 24\"\n",
              "       width=\"24px\">\n",
              "    <path d=\"M0 0h24v24H0V0z\" fill=\"none\"/>\n",
              "    <path d=\"M18.56 5.44l.94 2.06.94-2.06 2.06-.94-2.06-.94-.94-2.06-.94 2.06-2.06.94zm-11 1L8.5 8.5l.94-2.06 2.06-.94-2.06-.94L8.5 2.5l-.94 2.06-2.06.94zm10 10l.94 2.06.94-2.06 2.06-.94-2.06-.94-.94-2.06-.94 2.06-2.06.94z\"/><path d=\"M17.41 7.96l-1.37-1.37c-.4-.4-.92-.59-1.43-.59-.52 0-1.04.2-1.43.59L10.3 9.45l-7.72 7.72c-.78.78-.78 2.05 0 2.83L4 21.41c.39.39.9.59 1.41.59.51 0 1.02-.2 1.41-.59l7.78-7.78 2.81-2.81c.8-.78.8-2.07 0-2.86zM5.41 20L4 18.59l7.72-7.72 1.47 1.35L5.41 20z\"/>\n",
              "  </svg>\n",
              "      </button>\n",
              "      \n",
              "  <style>\n",
              "    .colab-df-container {\n",
              "      display:flex;\n",
              "      flex-wrap:wrap;\n",
              "      gap: 12px;\n",
              "    }\n",
              "\n",
              "    .colab-df-convert {\n",
              "      background-color: #E8F0FE;\n",
              "      border: none;\n",
              "      border-radius: 50%;\n",
              "      cursor: pointer;\n",
              "      display: none;\n",
              "      fill: #1967D2;\n",
              "      height: 32px;\n",
              "      padding: 0 0 0 0;\n",
              "      width: 32px;\n",
              "    }\n",
              "\n",
              "    .colab-df-convert:hover {\n",
              "      background-color: #E2EBFA;\n",
              "      box-shadow: 0px 1px 2px rgba(60, 64, 67, 0.3), 0px 1px 3px 1px rgba(60, 64, 67, 0.15);\n",
              "      fill: #174EA6;\n",
              "    }\n",
              "\n",
              "    [theme=dark] .colab-df-convert {\n",
              "      background-color: #3B4455;\n",
              "      fill: #D2E3FC;\n",
              "    }\n",
              "\n",
              "    [theme=dark] .colab-df-convert:hover {\n",
              "      background-color: #434B5C;\n",
              "      box-shadow: 0px 1px 3px 1px rgba(0, 0, 0, 0.15);\n",
              "      filter: drop-shadow(0px 1px 2px rgba(0, 0, 0, 0.3));\n",
              "      fill: #FFFFFF;\n",
              "    }\n",
              "  </style>\n",
              "\n",
              "      <script>\n",
              "        const buttonEl =\n",
              "          document.querySelector('#df-c6f215e3-8c2f-4f52-b1d2-12d886d73c8d button.colab-df-convert');\n",
              "        buttonEl.style.display =\n",
              "          google.colab.kernel.accessAllowed ? 'block' : 'none';\n",
              "\n",
              "        async function convertToInteractive(key) {\n",
              "          const element = document.querySelector('#df-c6f215e3-8c2f-4f52-b1d2-12d886d73c8d');\n",
              "          const dataTable =\n",
              "            await google.colab.kernel.invokeFunction('convertToInteractive',\n",
              "                                                     [key], {});\n",
              "          if (!dataTable) return;\n",
              "\n",
              "          const docLinkHtml = 'Like what you see? Visit the ' +\n",
              "            '<a target=\"_blank\" href=https://colab.research.google.com/notebooks/data_table.ipynb>data table notebook</a>'\n",
              "            + ' to learn more about interactive tables.';\n",
              "          element.innerHTML = '';\n",
              "          dataTable['output_type'] = 'display_data';\n",
              "          await google.colab.output.renderOutput(dataTable, element);\n",
              "          const docLink = document.createElement('div');\n",
              "          docLink.innerHTML = docLinkHtml;\n",
              "          element.appendChild(docLink);\n",
              "        }\n",
              "      </script>\n",
              "    </div>\n",
              "  </div>\n",
              "  "
            ],
            "text/plain": [
              "       likes/view_count  dislikes/view_count  comment_count/view_count\n",
              "count      12897.000000         12897.000000              12897.000000\n",
              "mean           0.039904             0.000692                  0.004564\n",
              "std            0.048577             0.001810                  0.005479\n",
              "min            0.000000             0.000000                  0.000000\n",
              "25%            0.013618             0.000256                  0.001567\n",
              "50%            0.022548             0.000402                  0.003011\n",
              "75%            0.040780             0.000667                  0.005512\n",
              "max            0.408681             0.077554                  0.161516"
            ]
          },
          "metadata": {},
          "execution_count": 319
        }
      ]
    },
    {
      "cell_type": "markdown",
      "source": [
        "### 위의 내용을 보면 조회수와 비교해서 좋아요와 싫어요, 댓글수의 평균과 최소, 최대 값을 알 수 있다.\n",
        "\n",
        "### 평균적으로 좋아요는 3%, 싫어요는 0.06%, 댓글수는 0.4%인 것을 알 수 있다."
      ],
      "metadata": {
        "id": "lsYETUIS94SH"
      }
    },
    {
      "cell_type": "markdown",
      "source": [
        "# **카테고리**"
      ],
      "metadata": {
        "id": "1gk3MSY7CG6R"
      }
    },
    {
      "cell_type": "code",
      "source": [
        "plt.figure(figsize=(25,5))\n",
        "sns.countplot(x = 'category', data = df, order = df['category'].value_counts().index)\n",
        "plt.show"
      ],
      "metadata": {
        "colab": {
          "base_uri": "https://localhost:8080/",
          "height": 352
        },
        "id": "94ASIVWw-_hn",
        "outputId": "75b64271-2e3f-464d-a20e-a8700159e6fa"
      },
      "execution_count": null,
      "outputs": [
        {
          "output_type": "execute_result",
          "data": {
            "text/plain": [
              "<function matplotlib.pyplot.show>"
            ]
          },
          "metadata": {},
          "execution_count": 320
        },
        {
          "output_type": "display_data",
          "data": {
            "image/png": "[encoded data removed]",
            "text/plain": [
              "<Figure size 1800x360 with 1 Axes>"
            ]
          },
          "metadata": {
            "needs_background": "light"
          }
        }
      ]
    },
    {
      "cell_type": "markdown",
      "source": [
        "전체 인기동영상의 카테고리 숫자를 카운트해보면 위의 그래프와 같이\n",
        "\n",
        "Entertainment, People & Blogs, Music 순으로 많은 것을 볼수 있고\n",
        "\n",
        "### 특히 Entertainment가 많이 카운트 된 것을 볼 수 이다."
      ],
      "metadata": {
        "id": "YfUMaKGkGSpf"
      }
    },
    {
      "cell_type": "code",
      "source": [
        "sort_view_df = df.sort_values(by=['view_count'], axis=0)\n",
        "top100_df = sort_view_df.head(100)\n",
        "plt.figure(figsize=(25,5))\n",
        "sns.countplot(x = 'category', data = top100_df, order = top100_df['category'].value_counts().index)\n",
        "plt.show"
      ],
      "metadata": {
        "colab": {
          "base_uri": "https://localhost:8080/",
          "height": 352
        },
        "id": "4zN-tmNECFMy",
        "outputId": "a4039094-d7ff-4003-94a6-c6e7afc17395"
      },
      "execution_count": null,
      "outputs": [
        {
          "output_type": "execute_result",
          "data": {
            "text/plain": [
              "<function matplotlib.pyplot.show>"
            ]
          },
          "metadata": {},
          "execution_count": 321
        },
        {
          "output_type": "display_data",
          "data": {
            "image/png": "[encoded data removed]",
            "text/plain": [
              "<Figure size 1800x360 with 1 Axes>"
            ]
          },
          "metadata": {
            "needs_background": "light"
          }
        }
      ]
    },
    {
      "cell_type": "markdown",
      "source": [
        "### 위의 그래프는 조회수 순으로 정렬해서 상위 100개의 영상들의 카테고리를 분류해서 카운트 한 경우인데 상위 조회수를 가진 영상들의 경우 News & Politics 카테고리가 많다는 것을 알 수 있다."
      ],
      "metadata": {
        "id": "zDfB3R9aGOdu"
      }
    },
    {
      "cell_type": "markdown",
      "source": [
        "# **인기 동영상에 등록되는데 걸린 시간**"
      ],
      "metadata": {
        "id": "KIfKGCviVBi4"
      }
    },
    {
      "cell_type": "code",
      "source": [
        "df[[\"tre_pubtime\"]].describe()"
      ],
      "metadata": {
        "colab": {
          "base_uri": "https://localhost:8080/",
          "height": 300
        },
        "id": "EREaRDTqVVxX",
        "outputId": "cf717f60-7efc-4b9e-cb80-a65ce9ff8d82"
      },
      "execution_count": null,
      "outputs": [
        {
          "output_type": "execute_result",
          "data": {
            "text/html": [
              "\n",
              "  <div id=\"df-b4fbb3a8-89d0-4274-9b1b-c85915c7994b\">\n",
              "    <div class=\"colab-df-container\">\n",
              "      <div>\n",
              "<style scoped>\n",
              "    .dataframe tbody tr th:only-of-type {\n",
              "        vertical-align: middle;\n",
              "    }\n",
              "\n",
              "    .dataframe tbody tr th {\n",
              "        vertical-align: top;\n",
              "    }\n",
              "\n",
              "    .dataframe thead th {\n",
              "        text-align: right;\n",
              "    }\n",
              "</style>\n",
              "<table border=\"1\" class=\"dataframe\">\n",
              "  <thead>\n",
              "    <tr style=\"text-align: right;\">\n",
              "      <th></th>\n",
              "      <th>tre_pubtime</th>\n",
              "    </tr>\n",
              "  </thead>\n",
              "  <tbody>\n",
              "    <tr>\n",
              "      <th>count</th>\n",
              "      <td>12897</td>\n",
              "    </tr>\n",
              "    <tr>\n",
              "      <th>mean</th>\n",
              "      <td>1 days 20:31:36.485616810</td>\n",
              "    </tr>\n",
              "    <tr>\n",
              "      <th>std</th>\n",
              "      <td>0 days 23:08:13.501776435</td>\n",
              "    </tr>\n",
              "    <tr>\n",
              "      <th>min</th>\n",
              "      <td>0 days 11:47:11</td>\n",
              "    </tr>\n",
              "    <tr>\n",
              "      <th>25%</th>\n",
              "      <td>1 days 11:59:44</td>\n",
              "    </tr>\n",
              "    <tr>\n",
              "      <th>50%</th>\n",
              "      <td>1 days 14:59:38</td>\n",
              "    </tr>\n",
              "    <tr>\n",
              "      <th>75%</th>\n",
              "      <td>1 days 20:01:38</td>\n",
              "    </tr>\n",
              "    <tr>\n",
              "      <th>max</th>\n",
              "      <td>22 days 13:55:07</td>\n",
              "    </tr>\n",
              "  </tbody>\n",
              "</table>\n",
              "</div>\n",
              "      <button class=\"colab-df-convert\" onclick=\"convertToInteractive('df-b4fbb3a8-89d0-4274-9b1b-c85915c7994b')\"\n",
              "              title=\"Convert this dataframe to an interactive table.\"\n",
              "              style=\"display:none;\">\n",
              "        \n",
              "  <svg xmlns=\"http://www.w3.org/2000/svg\" height=\"24px\"viewBox=\"0 0 24 24\"\n",
              "       width=\"24px\">\n",
              "    <path d=\"M0 0h24v24H0V0z\" fill=\"none\"/>\n",
              "    <path d=\"M18.56 5.44l.94 2.06.94-2.06 2.06-.94-2.06-.94-.94-2.06-.94 2.06-2.06.94zm-11 1L8.5 8.5l.94-2.06 2.06-.94-2.06-.94L8.5 2.5l-.94 2.06-2.06.94zm10 10l.94 2.06.94-2.06 2.06-.94-2.06-.94-.94-2.06-.94 2.06-2.06.94z\"/><path d=\"M17.41 7.96l-1.37-1.37c-.4-.4-.92-.59-1.43-.59-.52 0-1.04.2-1.43.59L10.3 9.45l-7.72 7.72c-.78.78-.78 2.05 0 2.83L4 21.41c.39.39.9.59 1.41.59.51 0 1.02-.2 1.41-.59l7.78-7.78 2.81-2.81c.8-.78.8-2.07 0-2.86zM5.41 20L4 18.59l7.72-7.72 1.47 1.35L5.41 20z\"/>\n",
              "  </svg>\n",
              "      </button>\n",
              "      \n",
              "  <style>\n",
              "    .colab-df-container {\n",
              "      display:flex;\n",
              "      flex-wrap:wrap;\n",
              "      gap: 12px;\n",
              "    }\n",
              "\n",
              "    .colab-df-convert {\n",
              "      background-color: #E8F0FE;\n",
              "      border: none;\n",
              "      border-radius: 50%;\n",
              "      cursor: pointer;\n",
              "      display: none;\n",
              "      fill: #1967D2;\n",
              "      height: 32px;\n",
              "      padding: 0 0 0 0;\n",
              "      width: 32px;\n",
              "    }\n",
              "\n",
              "    .colab-df-convert:hover {\n",
              "      background-color: #E2EBFA;\n",
              "      box-shadow: 0px 1px 2px rgba(60, 64, 67, 0.3), 0px 1px 3px 1px rgba(60, 64, 67, 0.15);\n",
              "      fill: #174EA6;\n",
              "    }\n",
              "\n",
              "    [theme=dark] .colab-df-convert {\n",
              "      background-color: #3B4455;\n",
              "      fill: #D2E3FC;\n",
              "    }\n",
              "\n",
              "    [theme=dark] .colab-df-convert:hover {\n",
              "      background-color: #434B5C;\n",
              "      box-shadow: 0px 1px 3px 1px rgba(0, 0, 0, 0.15);\n",
              "      filter: drop-shadow(0px 1px 2px rgba(0, 0, 0, 0.3));\n",
              "      fill: #FFFFFF;\n",
              "    }\n",
              "  </style>\n",
              "\n",
              "      <script>\n",
              "        const buttonEl =\n",
              "          document.querySelector('#df-b4fbb3a8-89d0-4274-9b1b-c85915c7994b button.colab-df-convert');\n",
              "        buttonEl.style.display =\n",
              "          google.colab.kernel.accessAllowed ? 'block' : 'none';\n",
              "\n",
              "        async function convertToInteractive(key) {\n",
              "          const element = document.querySelector('#df-b4fbb3a8-89d0-4274-9b1b-c85915c7994b');\n",
              "          const dataTable =\n",
              "            await google.colab.kernel.invokeFunction('convertToInteractive',\n",
              "                                                     [key], {});\n",
              "          if (!dataTable) return;\n",
              "\n",
              "          const docLinkHtml = 'Like what you see? Visit the ' +\n",
              "            '<a target=\"_blank\" href=https://colab.research.google.com/notebooks/data_table.ipynb>data table notebook</a>'\n",
              "            + ' to learn more about interactive tables.';\n",
              "          element.innerHTML = '';\n",
              "          dataTable['output_type'] = 'display_data';\n",
              "          await google.colab.output.renderOutput(dataTable, element);\n",
              "          const docLink = document.createElement('div');\n",
              "          docLink.innerHTML = docLinkHtml;\n",
              "          element.appendChild(docLink);\n",
              "        }\n",
              "      </script>\n",
              "    </div>\n",
              "  </div>\n",
              "  "
            ],
            "text/plain": [
              "                     tre_pubtime\n",
              "count                      12897\n",
              "mean   1 days 20:31:36.485616810\n",
              "std    0 days 23:08:13.501776435\n",
              "min              0 days 11:47:11\n",
              "25%              1 days 11:59:44\n",
              "50%              1 days 14:59:38\n",
              "75%              1 days 20:01:38\n",
              "max             22 days 13:55:07"
            ]
          },
          "metadata": {},
          "execution_count": 322
        }
      ]
    },
    {
      "cell_type": "markdown",
      "source": [
        "평균적으로 1일 20시간 정도 걸리는 것을 알 수 있다."
      ],
      "metadata": {
        "id": "GbpAMWz7ZGN6"
      }
    },
    {
      "cell_type": "markdown",
      "source": [
        "# **관계**"
      ],
      "metadata": {
        "id": "4O9FvJWSUun6"
      }
    },
    {
      "cell_type": "code",
      "source": [
        "plt.figure(figsize = (10,10))\n",
        "sns.heatmap(df.corr(),cmap=\"Blues\",annot=True)"
      ],
      "metadata": {
        "colab": {
          "base_uri": "https://localhost:8080/",
          "height": 743
        },
        "id": "UiGtXinyP9If",
        "outputId": "62fd2991-b1b7-473e-eb86-8b1c82e42375"
      },
      "execution_count": null,
      "outputs": [
        {
          "output_type": "execute_result",
          "data": {
            "text/plain": [
              "<matplotlib.axes._subplots.AxesSubplot at 0x7fd917e7e510>"
            ]
          },
          "metadata": {},
          "execution_count": 323
        },
        {
          "output_type": "display_data",
          "data": {
            "image/png": "[encoded data removed]",
            "text/plain": [
              "<Figure size 720x720 with 2 Axes>"
            ]
          },
          "metadata": {
            "needs_background": "light"
          }
        }
      ]
    },
    {
      "cell_type": "code",
      "source": [
        ""
      ],
      "metadata": {
        "id": "978LpJvzcG-7"
      },
      "execution_count": null,
      "outputs": []
    },
    {
      "cell_type": "markdown",
      "source": [
        "# **정리**\n",
        "\n",
        "\n",
        "\n",
        "### *   유튜브 인기 동영상은 평균 440000회의 조회수를 가지고 있고 최소 14000회의 조회수를 가지고 있다.\n",
        "\n",
        "### *   인기 동영상의 조회수 대비 좋아요의 비율은 평균적으로 3%이고 싫어요의 비율은 평균적으로 0.06%이며 댓글 수는 0.4%이다.\n",
        "### *   전체 인기 동영상의 카테고리는 Entertainment가 압도적으로 많고 People & Blogs, Music가 많이 차지 하고 있지만 상위 100개의 동영상 중에서는  News & Politics가 가장 많이 차지하고 있다.\n",
        "\n",
        "\n",
        "### *   평균적으로 영상을 올리고 인기 동영상으로 선정되는데 걸리는 시간이 1일 20시간 정도이다.\n",
        "\n"
      ],
      "metadata": {
        "id": "9bKd2JlsbeJk"
      }
    }
  ]
}