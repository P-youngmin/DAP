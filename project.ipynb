{
  "nbformat": 4,
  "nbformat_minor": 0,
  "metadata": {
    "colab": {
      "name": "Untitled1.ipynb",
      "provenance": [],
      "authorship_tag": "ABX9TyMHArK7R0p5yw4doMgfG/0q",
      "include_colab_link": true
    },
    "kernelspec": {
      "name": "python3",
      "display_name": "Python 3"
    },
    "language_info": {
      "name": "python"
    }
  },
  "cells": [
    {
      "cell_type": "markdown",
      "metadata": {
        "id": "view-in-github",
        "colab_type": "text"
      },
      "source": [
        "<a href=\"https://colab.research.google.com/github/P-youngmin/DAP/blob/main/project.ipynb\" target=\"_parent\"><img src=\"https://colab.research.google.com/assets/colab-badge.svg\" alt=\"Open In Colab\"/></a>"
      ]
    },
    {
      "cell_type": "code",
      "metadata": {
        "id": "KYAEJGIDUHqD"
      },
      "source": [
        "import pandas as pd"
      ],
      "execution_count": null,
      "outputs": []
    },
    {
      "cell_type": "code",
      "metadata": {
        "colab": {
          "resources": {
            "http://localhost:8080/nbextensions/google.colab/files.js": {
              "data": "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",
              "ok": true,
              "headers": [
                [
                  "content-type",
                  "application/javascript"
                ]
              ],
              "status": 200,
              "status_text": ""
            }
          },
          "base_uri": "https://localhost:8080/",
          "height": 272
        },
        "id": "eZqM1Z3ri76J",
        "outputId": "3731377b-0fef-498c-900e-45bec489ed89"
      },
      "source": [
        "!pip install kaggle\n",
        "from google.colab import files\n",
        "files.upload()"
      ],
      "execution_count": null,
      "outputs": [
        {
          "output_type": "stream",
          "name": "stdout",
          "text": [
            "Requirement already satisfied: kaggle in /usr/local/lib/python3.7/dist-packages (1.5.12)\n",
            "Requirement already satisfied: certifi in /usr/local/lib/python3.7/dist-packages (from kaggle) (2021.10.8)\n",
            "Requirement already satisfied: urllib3 in /usr/local/lib/python3.7/dist-packages (from kaggle) (1.24.3)\n",
            "Requirement already satisfied: python-slugify in /usr/local/lib/python3.7/dist-packages (from kaggle) (5.0.2)\n",
            "Requirement already satisfied: six>=1.10 in /usr/local/lib/python3.7/dist-packages (from kaggle) (1.15.0)\n",
            "Requirement already satisfied: python-dateutil in /usr/local/lib/python3.7/dist-packages (from kaggle) (2.8.2)\n",
            "Requirement already satisfied: requests in /usr/local/lib/python3.7/dist-packages (from kaggle) (2.23.0)\n",
            "Requirement already satisfied: tqdm in /usr/local/lib/python3.7/dist-packages (from kaggle) (4.62.3)\n",
            "Requirement already satisfied: text-unidecode>=1.3 in /usr/local/lib/python3.7/dist-packages (from python-slugify->kaggle) (1.3)\n",
            "Requirement already satisfied: idna<3,>=2.5 in /usr/local/lib/python3.7/dist-packages (from requests->kaggle) (2.10)\n",
            "Requirement already satisfied: chardet<4,>=3.0.2 in /usr/local/lib/python3.7/dist-packages (from requests->kaggle) (3.0.4)\n"
          ]
        },
        {
          "output_type": "display_data",
          "data": {
            "text/html": [
              "\n",
              "     <input type=\"file\" id=\"files-61580583-5bea-4cbd-b8a8-88aa32ec6dcf\" name=\"files[]\" multiple disabled\n",
              "        style=\"border:none\" />\n",
              "     <output id=\"result-61580583-5bea-4cbd-b8a8-88aa32ec6dcf\">\n",
              "      Upload widget is only available when the cell has been executed in the\n",
              "      current browser session. Please rerun this cell to enable.\n",
              "      </output>\n",
              "      <script src=\"/nbextensions/google.colab/files.js\"></script> "
            ],
            "text/plain": [
              "<IPython.core.display.HTML object>"
            ]
          },
          "metadata": {}
        },
        {
          "output_type": "stream",
          "name": "stdout",
          "text": [
            "Saving kaggle.json to kaggle (1).json\n"
          ]
        },
        {
          "output_type": "execute_result",
          "data": {
            "text/plain": [
              "{'kaggle.json': b'{\"username\":\"youngmin\",\"key\":\"b086bdb8f99b49bc31b66849d41e6ae1\"}'}"
            ]
          },
          "metadata": {},
          "execution_count": 6
        }
      ]
    },
    {
      "cell_type": "code",
      "metadata": {
        "colab": {
          "base_uri": "https://localhost:8080/"
        },
        "id": "c-2KWyLiktdS",
        "outputId": "b56c5974-05d5-49af-86ec-740040e3db40"
      },
      "source": [
        "ls -1ha kaggle.json"
      ],
      "execution_count": null,
      "outputs": [
        {
          "output_type": "stream",
          "name": "stdout",
          "text": [
            "kaggle.json\n"
          ]
        }
      ]
    },
    {
      "cell_type": "code",
      "metadata": {
        "colab": {
          "base_uri": "https://localhost:8080/"
        },
        "id": "msjFNzBbk0pN",
        "outputId": "27e51c57-0809-49ff-bb1e-aa88ddb25423"
      },
      "source": [
        "!mkdir -p ~/.kaggle\n",
        "!cp kaggle.json ~/.kaggle/ \n",
        "!chmod 600 ~/.kaggle/kaggle.json\n",
        "!kaggle competitions list"
      ],
      "execution_count": null,
      "outputs": [
        {
          "output_type": "stream",
          "name": "stdout",
          "text": [
            "Warning: Looks like you're using an outdated API Version, please consider updating (server 1.5.12 / client 1.5.4)\n",
            "ref                                            deadline             category            reward  teamCount  userHasEntered  \n",
            "---------------------------------------------  -------------------  ---------------  ---------  ---------  --------------  \n",
            "contradictory-my-dear-watson                   2030-07-01 23:59:00  Getting Started     Prizes         77           False  \n",
            "gan-getting-started                            2030-07-01 23:59:00  Getting Started     Prizes         78           False  \n",
            "store-sales-time-series-forecasting            2030-06-30 23:59:00  Getting Started  Knowledge        644           False  \n",
            "tpu-getting-started                            2030-06-03 23:59:00  Getting Started  Knowledge        133           False  \n",
            "digit-recognizer                               2030-01-01 00:00:00  Getting Started  Knowledge       1481           False  \n",
            "titanic                                        2030-01-01 00:00:00  Getting Started  Knowledge      14562           False  \n",
            "house-prices-advanced-regression-techniques    2030-01-01 00:00:00  Getting Started  Knowledge       4513           False  \n",
            "connectx                                       2030-01-01 00:00:00  Getting Started  Knowledge        257           False  \n",
            "nlp-getting-started                            2030-01-01 00:00:00  Getting Started  Knowledge       1142           False  \n",
            "competitive-data-science-predict-future-sales  2022-12-31 23:59:00  Playground           Kudos      12991           False  \n",
            "jigsaw-toxic-severity-rating                   2022-02-07 23:59:00  Featured           $50,000        321           False  \n",
            "g-research-crypto-forecasting                  2022-02-01 23:59:00  Featured          $125,000        542           False  \n",
            "petfinder-pawpularity-score                    2022-01-13 23:59:00  Research           $25,000       2083           False  \n",
            "optiver-realized-volatility-prediction         2022-01-10 23:59:00  Featured          $100,000       3852           False  \n",
            "nfl-big-data-bowl-2022                         2022-01-06 23:59:00  Analytics         $100,000          0           False  \n",
            "sartorius-cell-instance-segmentation           2021-12-30 23:59:00  Featured           $75,000        803           False  \n",
            "wikipedia-image-caption                        2021-12-09 11:59:00  Playground            Swag         81           False  \n",
            "lux-ai-2021                                    2021-12-06 23:59:00  Featured           $10,000       1022           False  \n",
            "tabular-playground-series-nov-2021             2021-11-30 23:59:00  Playground            Swag        890           False  \n",
            "kaggle-survey-2021                             2021-11-28 23:59:00  Analytics          $30,000          0           False  \n"
          ]
        }
      ]
    },
    {
      "cell_type": "code",
      "metadata": {
        "colab": {
          "base_uri": "https://localhost:8080/"
        },
        "id": "wB4oEiQbk2tu",
        "outputId": "5cd5fb81-b257-4299-fa51-259c5adc94df"
      },
      "source": [
        "! kaggle datasets download -d rsrishav/youtube-trending-video-dataset"
      ],
      "execution_count": null,
      "outputs": [
        {
          "output_type": "stream",
          "name": "stdout",
          "text": [
            "Downloading youtube-trending-video-dataset.zip to /content\n",
            " 99% 601M/604M [00:11<00:00, 33.9MB/s]\n",
            "100% 604M/604M [00:11<00:00, 53.1MB/s]\n"
          ]
        }
      ]
    },
    {
      "cell_type": "code",
      "metadata": {
        "colab": {
          "base_uri": "https://localhost:8080/"
        },
        "id": "qkqJcO5Ik8O0",
        "outputId": "b3dd5f6c-9814-4c73-ed69-17ad0fef550d"
      },
      "source": [
        "!ls"
      ],
      "execution_count": null,
      "outputs": [
        {
          "output_type": "stream",
          "name": "stdout",
          "text": [
            "'kaggle (1).json'   sample_data\n",
            " kaggle.json\t    youtube-trending-video-dataset.zip\n"
          ]
        }
      ]
    },
    {
      "cell_type": "code",
      "metadata": {
        "colab": {
          "base_uri": "https://localhost:8080/"
        },
        "id": "_kgL7XLIlAHG",
        "outputId": "60be9bbe-457c-46f5-a0a2-1ad254c74da6"
      },
      "source": [
        "!unzip youtube-trending-video-dataset.zip"
      ],
      "execution_count": null,
      "outputs": [
        {
          "output_type": "stream",
          "name": "stdout",
          "text": [
            "Archive:  youtube-trending-video-dataset.zip\n",
            "  inflating: BR_category_id.json     \n",
            "  inflating: BR_youtube_trending_data.csv  \n",
            "  inflating: CA_category_id.json     \n",
            "  inflating: CA_youtube_trending_data.csv  \n",
            "  inflating: DE_category_id.json     \n",
            "  inflating: DE_youtube_trending_data.csv  \n",
            "  inflating: FR_category_id.json     \n",
            "  inflating: FR_youtube_trending_data.csv  \n",
            "  inflating: GB_category_id.json     \n",
            "  inflating: GB_youtube_trending_data.csv  \n",
            "  inflating: IN_category_id.json     \n",
            "  inflating: IN_youtube_trending_data.csv  \n",
            "  inflating: JP_category_id.json     \n",
            "  inflating: JP_youtube_trending_data.csv  \n",
            "  inflating: KR_category_id.json     \n",
            "  inflating: KR_youtube_trending_data.csv  \n",
            "  inflating: MX_category_id.json     \n",
            "  inflating: MX_youtube_trending_data.csv  \n",
            "  inflating: RU_category_id.json     \n",
            "  inflating: RU_youtube_trending_data.csv  \n",
            "  inflating: US_category_id.json     \n",
            "  inflating: US_youtube_trending_data.csv  \n"
          ]
        }
      ]
    },
    {
      "cell_type": "code",
      "metadata": {
        "colab": {
          "base_uri": "https://localhost:8080/",
          "height": 1000
        },
        "id": "a-QHsvrElGlm",
        "outputId": "1abaedbd-f8cf-4fa4-8686-567e7718026f"
      },
      "source": [
        "df = pd.read_csv('KR_youtube_trending_data.csv')\n",
        "df"
      ],
      "execution_count": null,
      "outputs": [
        {
          "output_type": "execute_result",
          "data": {
            "text/html": [
              "<div>\n",
              "<style scoped>\n",
              "    .dataframe tbody tr th:only-of-type {\n",
              "        vertical-align: middle;\n",
              "    }\n",
              "\n",
              "    .dataframe tbody tr th {\n",
              "        vertical-align: top;\n",
              "    }\n",
              "\n",
              "    .dataframe thead th {\n",
              "        text-align: right;\n",
              "    }\n",
              "</style>\n",
              "<table border=\"1\" class=\"dataframe\">\n",
              "  <thead>\n",
              "    <tr style=\"text-align: right;\">\n",
              "      <th></th>\n",
              "      <th>video_id</th>\n",
              "      <th>title</th>\n",
              "      <th>publishedAt</th>\n",
              "      <th>channelId</th>\n",
              "      <th>channelTitle</th>\n",
              "      <th>categoryId</th>\n",
              "      <th>trending_date</th>\n",
              "      <th>tags</th>\n",
              "      <th>view_count</th>\n",
              "      <th>likes</th>\n",
              "      <th>dislikes</th>\n",
              "      <th>comment_count</th>\n",
              "      <th>thumbnail_link</th>\n",
              "      <th>comments_disabled</th>\n",
              "      <th>ratings_disabled</th>\n",
              "      <th>description</th>\n",
              "    </tr>\n",
              "  </thead>\n",
              "  <tbody>\n",
              "    <tr>\n",
              "      <th>0</th>\n",
              "      <td>uq5LClQN3cE</td>\n",
              "      <td>안녕하세요 보겸입니다</td>\n",
              "      <td>2020-08-09T09:32:48Z</td>\n",
              "      <td>UCu9BCtGIEr73LXZsKmoujKw</td>\n",
              "      <td>보겸 BK</td>\n",
              "      <td>24</td>\n",
              "      <td>2020-08-12T00:00:00Z</td>\n",
              "      <td>보겸|bokyem</td>\n",
              "      <td>5947503</td>\n",
              "      <td>53326</td>\n",
              "      <td>105756</td>\n",
              "      <td>139946</td>\n",
              "      <td>https://i.ytimg.com/vi/uq5LClQN3cE/default.jpg</td>\n",
              "      <td>False</td>\n",
              "      <td>False</td>\n",
              "      <td>NaN</td>\n",
              "    </tr>\n",
              "    <tr>\n",
              "      <th>1</th>\n",
              "      <td>I-ZbZCHsHD0</td>\n",
              "      <td>부락토스의 계획 [총몇명 프리퀄]</td>\n",
              "      <td>2020-08-12T09:00:08Z</td>\n",
              "      <td>UCRuSxVu4iqTK5kCh90ntAgA</td>\n",
              "      <td>총몇명</td>\n",
              "      <td>1</td>\n",
              "      <td>2020-08-12T00:00:00Z</td>\n",
              "      <td>총몇명|재밌는 만화|부락토스|루시퍼|총몇명 프리퀄|총몇명 스토리</td>\n",
              "      <td>963384</td>\n",
              "      <td>28244</td>\n",
              "      <td>494</td>\n",
              "      <td>3339</td>\n",
              "      <td>https://i.ytimg.com/vi/I-ZbZCHsHD0/default.jpg</td>\n",
              "      <td>False</td>\n",
              "      <td>False</td>\n",
              "      <td>오늘도 정말 감사드립니다!!총몇명 스튜디오 - 총몇명, 십제곱, 5G민, MOVE혁...</td>\n",
              "    </tr>\n",
              "    <tr>\n",
              "      <th>2</th>\n",
              "      <td>9d7jNUjBoss</td>\n",
              "      <td>평생 반성하면서 살겠습니다.</td>\n",
              "      <td>2020-08-10T09:54:13Z</td>\n",
              "      <td>UCMVC92EOs9yDJG5JS-CMesQ</td>\n",
              "      <td>양팡 YangPang</td>\n",
              "      <td>22</td>\n",
              "      <td>2020-08-12T00:00:00Z</td>\n",
              "      <td>양팡|양팡유튜브|팡튜브|가족시트콤|양팡가족|양팡가족시트콤|양팡언니|현실남매|현실자매...</td>\n",
              "      <td>2950885</td>\n",
              "      <td>17974</td>\n",
              "      <td>68898</td>\n",
              "      <td>50688</td>\n",
              "      <td>https://i.ytimg.com/vi/9d7jNUjBoss/default.jpg</td>\n",
              "      <td>False</td>\n",
              "      <td>False</td>\n",
              "      <td>NaN</td>\n",
              "    </tr>\n",
              "    <tr>\n",
              "      <th>3</th>\n",
              "      <td>3pI_L3-sMVg</td>\n",
              "      <td>안녕하세요 꽈뚜룹입니다.</td>\n",
              "      <td>2020-08-11T15:00:58Z</td>\n",
              "      <td>UCkQCwnkQfgSuPTTnw_Y7v7w</td>\n",
              "      <td>꽈뚜룹 Quaddurup</td>\n",
              "      <td>24</td>\n",
              "      <td>2020-08-12T00:00:00Z</td>\n",
              "      <td>꽈뚜룹|한국여행기|quaddurup|뚜룹이|korea|southkorea|vlog|...</td>\n",
              "      <td>1743374</td>\n",
              "      <td>36893</td>\n",
              "      <td>1798</td>\n",
              "      <td>8751</td>\n",
              "      <td>https://i.ytimg.com/vi/3pI_L3-sMVg/default.jpg</td>\n",
              "      <td>False</td>\n",
              "      <td>False</td>\n",
              "      <td>앞으로 좀 더 깔끔한 영상제작 약속 드리겠습니다.늘 감사드립니다</td>\n",
              "    </tr>\n",
              "    <tr>\n",
              "      <th>4</th>\n",
              "      <td>zrsBjYukE8s</td>\n",
              "      <td>박진영 (J.Y. Park) When We Disco (Duet with 선미) M/V</td>\n",
              "      <td>2020-08-11T09:00:13Z</td>\n",
              "      <td>UCaO6TYtlC8U5ttz62hTrZgg</td>\n",
              "      <td>JYP Entertainment</td>\n",
              "      <td>10</td>\n",
              "      <td>2020-08-12T00:00:00Z</td>\n",
              "      <td>JYP Entertainment|JYP|J.Y.Park|JYPark|박진영|선미|S...</td>\n",
              "      <td>3433885</td>\n",
              "      <td>353337</td>\n",
              "      <td>9763</td>\n",
              "      <td>23405</td>\n",
              "      <td>https://i.ytimg.com/vi/zrsBjYukE8s/default.jpg</td>\n",
              "      <td>False</td>\n",
              "      <td>False</td>\n",
              "      <td>MelOn http://kko.to/TWyXd7zYjSpotify https://s...</td>\n",
              "    </tr>\n",
              "    <tr>\n",
              "      <th>...</th>\n",
              "      <td>...</td>\n",
              "      <td>...</td>\n",
              "      <td>...</td>\n",
              "      <td>...</td>\n",
              "      <td>...</td>\n",
              "      <td>...</td>\n",
              "      <td>...</td>\n",
              "      <td>...</td>\n",
              "      <td>...</td>\n",
              "      <td>...</td>\n",
              "      <td>...</td>\n",
              "      <td>...</td>\n",
              "      <td>...</td>\n",
              "      <td>...</td>\n",
              "      <td>...</td>\n",
              "      <td>...</td>\n",
              "    </tr>\n",
              "    <tr>\n",
              "      <th>90349</th>\n",
              "      <td>HCUkNg0Utq4</td>\n",
              "      <td>3D펜으로 항공모함 만들기</td>\n",
              "      <td>2021-11-05T09:00:08Z</td>\n",
              "      <td>UCd4FmcWIVdWAy0-Q8OJBloQ</td>\n",
              "      <td>사나고 Sanago</td>\n",
              "      <td>26</td>\n",
              "      <td>2021-11-15T00:00:00Z</td>\n",
              "      <td>사나고|3D펜|3Dpen|만들기|making|3d프린터|3Dprinting</td>\n",
              "      <td>706251</td>\n",
              "      <td>21470</td>\n",
              "      <td>259</td>\n",
              "      <td>2579</td>\n",
              "      <td>https://i.ytimg.com/vi/HCUkNg0Utq4/default.jpg</td>\n",
              "      <td>False</td>\n",
              "      <td>False</td>\n",
              "      <td>아, 저는 육군전역했습니다● 3D펜 사나고 샵https://smartstore.na...</td>\n",
              "    </tr>\n",
              "    <tr>\n",
              "      <th>90350</th>\n",
              "      <td>1wbWnFOWpYo</td>\n",
              "      <td>지금만 먹을 수 있는 최상급 오징어 회</td>\n",
              "      <td>2021-11-06T11:00:02Z</td>\n",
              "      <td>UCIUfR-2qcpWqgAIfZJXOLWA</td>\n",
              "      <td>수빙수tv sooBingsoo</td>\n",
              "      <td>24</td>\n",
              "      <td>2021-11-15T00:00:00Z</td>\n",
              "      <td>수빙수|무늬오징어|오징어|제주도</td>\n",
              "      <td>451420</td>\n",
              "      <td>7947</td>\n",
              "      <td>155</td>\n",
              "      <td>521</td>\n",
              "      <td>https://i.ytimg.com/vi/1wbWnFOWpYo/default.jpg</td>\n",
              "      <td>False</td>\n",
              "      <td>False</td>\n",
              "      <td>📢BGM✔️Track - extenz-Meant to be✔️Soundcloud -...</td>\n",
              "    </tr>\n",
              "    <tr>\n",
              "      <th>90351</th>\n",
              "      <td>N6Ld1goiuRU</td>\n",
              "      <td>태어나서 처음으로 천원짜리를 본 재벌딸 Rich kid 11탄</td>\n",
              "      <td>2021-11-07T09:16:32Z</td>\n",
              "      <td>UChTJRQ7hJ-VThkjlEyk_8-g</td>\n",
              "      <td>Cece Ko 씨씨코</td>\n",
              "      <td>24</td>\n",
              "      <td>2021-11-15T00:00:00Z</td>\n",
              "      <td>[None]</td>\n",
              "      <td>1294979</td>\n",
              "      <td>43121</td>\n",
              "      <td>1450</td>\n",
              "      <td>722</td>\n",
              "      <td>https://i.ytimg.com/vi/N6Ld1goiuRU/default.jpg</td>\n",
              "      <td>False</td>\n",
              "      <td>False</td>\n",
              "      <td>NaN</td>\n",
              "    </tr>\n",
              "    <tr>\n",
              "      <th>90352</th>\n",
              "      <td>A7ESbgwLNSk</td>\n",
              "      <td>🌮  나성에서 온 타코민재 Vlog / Q&amp;A ( with 정권 ) 🌮</td>\n",
              "      <td>2021-11-06T08:00:06Z</td>\n",
              "      <td>UCa5KbflziIj3gvCvz5CE0oA</td>\n",
              "      <td>헤이무</td>\n",
              "      <td>22</td>\n",
              "      <td>2021-11-15T00:00:00Z</td>\n",
              "      <td>혜임|헤이무|혜이무|일상|데일리룩|패션|브이로그|나성타코|민재|타코|맛집|홍대|상수...</td>\n",
              "      <td>415110</td>\n",
              "      <td>7080</td>\n",
              "      <td>81</td>\n",
              "      <td>343</td>\n",
              "      <td>https://i.ytimg.com/vi/A7ESbgwLNSk/default.jpg</td>\n",
              "      <td>False</td>\n",
              "      <td>False</td>\n",
              "      <td>오늘은 정권이와 민재오빠와의 브이로그를 담아봤어요!둘이 열심히 도와줘서 이번영상을 ...</td>\n",
              "    </tr>\n",
              "    <tr>\n",
              "      <th>90353</th>\n",
              "      <td>dohty_1zjLs</td>\n",
              "      <td>[전지적 참견 시점 선공개] 립제이 깨우는 모니카☀ 모니카&amp;립제이의 러블리한 커플 ...</td>\n",
              "      <td>2021-11-06T02:56:07Z</td>\n",
              "      <td>UCiBr0bK06imaMbLc8sAEz0A</td>\n",
              "      <td>MBCentertainment</td>\n",
              "      <td>24</td>\n",
              "      <td>2021-11-15T00:00:00Z</td>\n",
              "      <td>전지적 참견시점|토요예능|이영자|전현무|송은이|양세형|모니카|립제이|선공개</td>\n",
              "      <td>1641769</td>\n",
              "      <td>16443</td>\n",
              "      <td>221</td>\n",
              "      <td>665</td>\n",
              "      <td>https://i.ytimg.com/vi/dohty_1zjLs/default.jpg</td>\n",
              "      <td>False</td>\n",
              "      <td>False</td>\n",
              "      <td>★★★More clips are available★★★iMBChttp://www.i...</td>\n",
              "    </tr>\n",
              "  </tbody>\n",
              "</table>\n",
              "<p>90354 rows × 16 columns</p>\n",
              "</div>"
            ],
            "text/plain": [
              "          video_id  ...                                        description\n",
              "0      uq5LClQN3cE  ...                                                NaN\n",
              "1      I-ZbZCHsHD0  ...  오늘도 정말 감사드립니다!!총몇명 스튜디오 - 총몇명, 십제곱, 5G민, MOVE혁...\n",
              "2      9d7jNUjBoss  ...                                                NaN\n",
              "3      3pI_L3-sMVg  ...                앞으로 좀 더 깔끔한 영상제작 약속 드리겠습니다.늘 감사드립니다\n",
              "4      zrsBjYukE8s  ...  MelOn http://kko.to/TWyXd7zYjSpotify https://s...\n",
              "...            ...  ...                                                ...\n",
              "90349  HCUkNg0Utq4  ...  아, 저는 육군전역했습니다● 3D펜 사나고 샵https://smartstore.na...\n",
              "90350  1wbWnFOWpYo  ...  📢BGM✔️Track - extenz-Meant to be✔️Soundcloud -...\n",
              "90351  N6Ld1goiuRU  ...                                                NaN\n",
              "90352  A7ESbgwLNSk  ...  오늘은 정권이와 민재오빠와의 브이로그를 담아봤어요!둘이 열심히 도와줘서 이번영상을 ...\n",
              "90353  dohty_1zjLs  ...  ★★★More clips are available★★★iMBChttp://www.i...\n",
              "\n",
              "[90354 rows x 16 columns]"
            ]
          },
          "metadata": {},
          "execution_count": 14
        }
      ]
    },
    {
      "cell_type": "code",
      "metadata": {
        "colab": {
          "base_uri": "https://localhost:8080/",
          "height": 998
        },
        "id": "QtGe1PBkmD7R",
        "outputId": "688091ff-ccc0-44bf-a472-0087fd5f0b76"
      },
      "source": [
        "df2 = pd.read_json('KR_category_id.json')\n",
        "df2"
      ],
      "execution_count": null,
      "outputs": [
        {
          "output_type": "execute_result",
          "data": {
            "text/html": [
              "<div>\n",
              "<style scoped>\n",
              "    .dataframe tbody tr th:only-of-type {\n",
              "        vertical-align: middle;\n",
              "    }\n",
              "\n",
              "    .dataframe tbody tr th {\n",
              "        vertical-align: top;\n",
              "    }\n",
              "\n",
              "    .dataframe thead th {\n",
              "        text-align: right;\n",
              "    }\n",
              "</style>\n",
              "<table border=\"1\" class=\"dataframe\">\n",
              "  <thead>\n",
              "    <tr style=\"text-align: right;\">\n",
              "      <th></th>\n",
              "      <th>kind</th>\n",
              "      <th>etag</th>\n",
              "      <th>items</th>\n",
              "    </tr>\n",
              "  </thead>\n",
              "  <tbody>\n",
              "    <tr>\n",
              "      <th>0</th>\n",
              "      <td>youtube#videoCategoryListResponse</td>\n",
              "      <td>kBCr3I9kLHHU79W4Ip5196LDptI</td>\n",
              "      <td>{'kind': 'youtube#videoCategory', 'etag': 'IfW...</td>\n",
              "    </tr>\n",
              "    <tr>\n",
              "      <th>1</th>\n",
              "      <td>youtube#videoCategoryListResponse</td>\n",
              "      <td>kBCr3I9kLHHU79W4Ip5196LDptI</td>\n",
              "      <td>{'kind': 'youtube#videoCategory', 'etag': '5XG...</td>\n",
              "    </tr>\n",
              "    <tr>\n",
              "      <th>2</th>\n",
              "      <td>youtube#videoCategoryListResponse</td>\n",
              "      <td>kBCr3I9kLHHU79W4Ip5196LDptI</td>\n",
              "      <td>{'kind': 'youtube#videoCategory', 'etag': 'HCj...</td>\n",
              "    </tr>\n",
              "    <tr>\n",
              "      <th>3</th>\n",
              "      <td>youtube#videoCategoryListResponse</td>\n",
              "      <td>kBCr3I9kLHHU79W4Ip5196LDptI</td>\n",
              "      <td>{'kind': 'youtube#videoCategory', 'etag': 'ra8...</td>\n",
              "    </tr>\n",
              "    <tr>\n",
              "      <th>4</th>\n",
              "      <td>youtube#videoCategoryListResponse</td>\n",
              "      <td>kBCr3I9kLHHU79W4Ip5196LDptI</td>\n",
              "      <td>{'kind': 'youtube#videoCategory', 'etag': '7mq...</td>\n",
              "    </tr>\n",
              "    <tr>\n",
              "      <th>5</th>\n",
              "      <td>youtube#videoCategoryListResponse</td>\n",
              "      <td>kBCr3I9kLHHU79W4Ip5196LDptI</td>\n",
              "      <td>{'kind': 'youtube#videoCategory', 'etag': '0Z6...</td>\n",
              "    </tr>\n",
              "    <tr>\n",
              "      <th>6</th>\n",
              "      <td>youtube#videoCategoryListResponse</td>\n",
              "      <td>kBCr3I9kLHHU79W4Ip5196LDptI</td>\n",
              "      <td>{'kind': 'youtube#videoCategory', 'etag': 'K_-...</td>\n",
              "    </tr>\n",
              "    <tr>\n",
              "      <th>7</th>\n",
              "      <td>youtube#videoCategoryListResponse</td>\n",
              "      <td>kBCr3I9kLHHU79W4Ip5196LDptI</td>\n",
              "      <td>{'kind': 'youtube#videoCategory', 'etag': 'I3I...</td>\n",
              "    </tr>\n",
              "    <tr>\n",
              "      <th>8</th>\n",
              "      <td>youtube#videoCategoryListResponse</td>\n",
              "      <td>kBCr3I9kLHHU79W4Ip5196LDptI</td>\n",
              "      <td>{'kind': 'youtube#videoCategory', 'etag': 'D1W...</td>\n",
              "    </tr>\n",
              "    <tr>\n",
              "      <th>9</th>\n",
              "      <td>youtube#videoCategoryListResponse</td>\n",
              "      <td>kBCr3I9kLHHU79W4Ip5196LDptI</td>\n",
              "      <td>{'kind': 'youtube#videoCategory', 'etag': 'QME...</td>\n",
              "    </tr>\n",
              "    <tr>\n",
              "      <th>10</th>\n",
              "      <td>youtube#videoCategoryListResponse</td>\n",
              "      <td>kBCr3I9kLHHU79W4Ip5196LDptI</td>\n",
              "      <td>{'kind': 'youtube#videoCategory', 'etag': 'v2n...</td>\n",
              "    </tr>\n",
              "    <tr>\n",
              "      <th>11</th>\n",
              "      <td>youtube#videoCategoryListResponse</td>\n",
              "      <td>kBCr3I9kLHHU79W4Ip5196LDptI</td>\n",
              "      <td>{'kind': 'youtube#videoCategory', 'etag': 'Qi1...</td>\n",
              "    </tr>\n",
              "    <tr>\n",
              "      <th>12</th>\n",
              "      <td>youtube#videoCategoryListResponse</td>\n",
              "      <td>kBCr3I9kLHHU79W4Ip5196LDptI</td>\n",
              "      <td>{'kind': 'youtube#videoCategory', 'etag': 'IbG...</td>\n",
              "    </tr>\n",
              "    <tr>\n",
              "      <th>13</th>\n",
              "      <td>youtube#videoCategoryListResponse</td>\n",
              "      <td>kBCr3I9kLHHU79W4Ip5196LDptI</td>\n",
              "      <td>{'kind': 'youtube#videoCategory', 'etag': 'gYz...</td>\n",
              "    </tr>\n",
              "    <tr>\n",
              "      <th>14</th>\n",
              "      <td>youtube#videoCategoryListResponse</td>\n",
              "      <td>kBCr3I9kLHHU79W4Ip5196LDptI</td>\n",
              "      <td>{'kind': 'youtube#videoCategory', 'etag': 'hHU...</td>\n",
              "    </tr>\n",
              "    <tr>\n",
              "      <th>15</th>\n",
              "      <td>youtube#videoCategoryListResponse</td>\n",
              "      <td>kBCr3I9kLHHU79W4Ip5196LDptI</td>\n",
              "      <td>{'kind': 'youtube#videoCategory', 'etag': 'KEd...</td>\n",
              "    </tr>\n",
              "    <tr>\n",
              "      <th>16</th>\n",
              "      <td>youtube#videoCategoryListResponse</td>\n",
              "      <td>kBCr3I9kLHHU79W4Ip5196LDptI</td>\n",
              "      <td>{'kind': 'youtube#videoCategory', 'etag': 'tMf...</td>\n",
              "    </tr>\n",
              "    <tr>\n",
              "      <th>17</th>\n",
              "      <td>youtube#videoCategoryListResponse</td>\n",
              "      <td>kBCr3I9kLHHU79W4Ip5196LDptI</td>\n",
              "      <td>{'kind': 'youtube#videoCategory', 'etag': 'tot...</td>\n",
              "    </tr>\n",
              "    <tr>\n",
              "      <th>18</th>\n",
              "      <td>youtube#videoCategoryListResponse</td>\n",
              "      <td>kBCr3I9kLHHU79W4Ip5196LDptI</td>\n",
              "      <td>{'kind': 'youtube#videoCategory', 'etag': 'LNg...</td>\n",
              "    </tr>\n",
              "    <tr>\n",
              "      <th>19</th>\n",
              "      <td>youtube#videoCategoryListResponse</td>\n",
              "      <td>kBCr3I9kLHHU79W4Ip5196LDptI</td>\n",
              "      <td>{'kind': 'youtube#videoCategory', 'etag': 'har...</td>\n",
              "    </tr>\n",
              "    <tr>\n",
              "      <th>20</th>\n",
              "      <td>youtube#videoCategoryListResponse</td>\n",
              "      <td>kBCr3I9kLHHU79W4Ip5196LDptI</td>\n",
              "      <td>{'kind': 'youtube#videoCategory', 'etag': 'M6Y...</td>\n",
              "    </tr>\n",
              "    <tr>\n",
              "      <th>21</th>\n",
              "      <td>youtube#videoCategoryListResponse</td>\n",
              "      <td>kBCr3I9kLHHU79W4Ip5196LDptI</td>\n",
              "      <td>{'kind': 'youtube#videoCategory', 'etag': 'ZFb...</td>\n",
              "    </tr>\n",
              "    <tr>\n",
              "      <th>22</th>\n",
              "      <td>youtube#videoCategoryListResponse</td>\n",
              "      <td>kBCr3I9kLHHU79W4Ip5196LDptI</td>\n",
              "      <td>{'kind': 'youtube#videoCategory', 'etag': 'FD7...</td>\n",
              "    </tr>\n",
              "    <tr>\n",
              "      <th>23</th>\n",
              "      <td>youtube#videoCategoryListResponse</td>\n",
              "      <td>kBCr3I9kLHHU79W4Ip5196LDptI</td>\n",
              "      <td>{'kind': 'youtube#videoCategory', 'etag': '7fv...</td>\n",
              "    </tr>\n",
              "    <tr>\n",
              "      <th>24</th>\n",
              "      <td>youtube#videoCategoryListResponse</td>\n",
              "      <td>kBCr3I9kLHHU79W4Ip5196LDptI</td>\n",
              "      <td>{'kind': 'youtube#videoCategory', 'etag': 'H6d...</td>\n",
              "    </tr>\n",
              "    <tr>\n",
              "      <th>25</th>\n",
              "      <td>youtube#videoCategoryListResponse</td>\n",
              "      <td>kBCr3I9kLHHU79W4Ip5196LDptI</td>\n",
              "      <td>{'kind': 'youtube#videoCategory', 'etag': 'Z3y...</td>\n",
              "    </tr>\n",
              "    <tr>\n",
              "      <th>26</th>\n",
              "      <td>youtube#videoCategoryListResponse</td>\n",
              "      <td>kBCr3I9kLHHU79W4Ip5196LDptI</td>\n",
              "      <td>{'kind': 'youtube#videoCategory', 'etag': '3F8...</td>\n",
              "    </tr>\n",
              "    <tr>\n",
              "      <th>27</th>\n",
              "      <td>youtube#videoCategoryListResponse</td>\n",
              "      <td>kBCr3I9kLHHU79W4Ip5196LDptI</td>\n",
              "      <td>{'kind': 'youtube#videoCategory', 'etag': 'Hwu...</td>\n",
              "    </tr>\n",
              "    <tr>\n",
              "      <th>28</th>\n",
              "      <td>youtube#videoCategoryListResponse</td>\n",
              "      <td>kBCr3I9kLHHU79W4Ip5196LDptI</td>\n",
              "      <td>{'kind': 'youtube#videoCategory', 'etag': 'qJ2...</td>\n",
              "    </tr>\n",
              "    <tr>\n",
              "      <th>29</th>\n",
              "      <td>youtube#videoCategoryListResponse</td>\n",
              "      <td>kBCr3I9kLHHU79W4Ip5196LDptI</td>\n",
              "      <td>{'kind': 'youtube#videoCategory', 'etag': '2sK...</td>\n",
              "    </tr>\n",
              "    <tr>\n",
              "      <th>30</th>\n",
              "      <td>youtube#videoCategoryListResponse</td>\n",
              "      <td>kBCr3I9kLHHU79W4Ip5196LDptI</td>\n",
              "      <td>{'kind': 'youtube#videoCategory', 'etag': '3Ia...</td>\n",
              "    </tr>\n",
              "  </tbody>\n",
              "</table>\n",
              "</div>"
            ],
            "text/plain": [
              "                                 kind  ...                                              items\n",
              "0   youtube#videoCategoryListResponse  ...  {'kind': 'youtube#videoCategory', 'etag': 'IfW...\n",
              "1   youtube#videoCategoryListResponse  ...  {'kind': 'youtube#videoCategory', 'etag': '5XG...\n",
              "2   youtube#videoCategoryListResponse  ...  {'kind': 'youtube#videoCategory', 'etag': 'HCj...\n",
              "3   youtube#videoCategoryListResponse  ...  {'kind': 'youtube#videoCategory', 'etag': 'ra8...\n",
              "4   youtube#videoCategoryListResponse  ...  {'kind': 'youtube#videoCategory', 'etag': '7mq...\n",
              "5   youtube#videoCategoryListResponse  ...  {'kind': 'youtube#videoCategory', 'etag': '0Z6...\n",
              "6   youtube#videoCategoryListResponse  ...  {'kind': 'youtube#videoCategory', 'etag': 'K_-...\n",
              "7   youtube#videoCategoryListResponse  ...  {'kind': 'youtube#videoCategory', 'etag': 'I3I...\n",
              "8   youtube#videoCategoryListResponse  ...  {'kind': 'youtube#videoCategory', 'etag': 'D1W...\n",
              "9   youtube#videoCategoryListResponse  ...  {'kind': 'youtube#videoCategory', 'etag': 'QME...\n",
              "10  youtube#videoCategoryListResponse  ...  {'kind': 'youtube#videoCategory', 'etag': 'v2n...\n",
              "11  youtube#videoCategoryListResponse  ...  {'kind': 'youtube#videoCategory', 'etag': 'Qi1...\n",
              "12  youtube#videoCategoryListResponse  ...  {'kind': 'youtube#videoCategory', 'etag': 'IbG...\n",
              "13  youtube#videoCategoryListResponse  ...  {'kind': 'youtube#videoCategory', 'etag': 'gYz...\n",
              "14  youtube#videoCategoryListResponse  ...  {'kind': 'youtube#videoCategory', 'etag': 'hHU...\n",
              "15  youtube#videoCategoryListResponse  ...  {'kind': 'youtube#videoCategory', 'etag': 'KEd...\n",
              "16  youtube#videoCategoryListResponse  ...  {'kind': 'youtube#videoCategory', 'etag': 'tMf...\n",
              "17  youtube#videoCategoryListResponse  ...  {'kind': 'youtube#videoCategory', 'etag': 'tot...\n",
              "18  youtube#videoCategoryListResponse  ...  {'kind': 'youtube#videoCategory', 'etag': 'LNg...\n",
              "19  youtube#videoCategoryListResponse  ...  {'kind': 'youtube#videoCategory', 'etag': 'har...\n",
              "20  youtube#videoCategoryListResponse  ...  {'kind': 'youtube#videoCategory', 'etag': 'M6Y...\n",
              "21  youtube#videoCategoryListResponse  ...  {'kind': 'youtube#videoCategory', 'etag': 'ZFb...\n",
              "22  youtube#videoCategoryListResponse  ...  {'kind': 'youtube#videoCategory', 'etag': 'FD7...\n",
              "23  youtube#videoCategoryListResponse  ...  {'kind': 'youtube#videoCategory', 'etag': '7fv...\n",
              "24  youtube#videoCategoryListResponse  ...  {'kind': 'youtube#videoCategory', 'etag': 'H6d...\n",
              "25  youtube#videoCategoryListResponse  ...  {'kind': 'youtube#videoCategory', 'etag': 'Z3y...\n",
              "26  youtube#videoCategoryListResponse  ...  {'kind': 'youtube#videoCategory', 'etag': '3F8...\n",
              "27  youtube#videoCategoryListResponse  ...  {'kind': 'youtube#videoCategory', 'etag': 'Hwu...\n",
              "28  youtube#videoCategoryListResponse  ...  {'kind': 'youtube#videoCategory', 'etag': 'qJ2...\n",
              "29  youtube#videoCategoryListResponse  ...  {'kind': 'youtube#videoCategory', 'etag': '2sK...\n",
              "30  youtube#videoCategoryListResponse  ...  {'kind': 'youtube#videoCategory', 'etag': '3Ia...\n",
              "\n",
              "[31 rows x 3 columns]"
            ]
          },
          "metadata": {},
          "execution_count": 16
        }
      ]
    },
    {
      "cell_type": "code",
      "metadata": {
        "id": "0xjSOAVClv2G"
      },
      "source": [
        ""
      ],
      "execution_count": null,
      "outputs": []
    },
    {
      "cell_type": "code",
      "metadata": {
        "id": "4Rq5Tl-AljoB"
      },
      "source": [
        ""
      ],
      "execution_count": null,
      "outputs": []
    }
  ]
}